{
 "cells": [
  {
   "cell_type": "code",
   "execution_count": 2,
   "id": "db237c6f-67a0-4662-9680-86122d4262bd",
   "metadata": {},
   "outputs": [
    {
     "data": {
      "text/plain": [
       "<module 'SXBQ' from 'C:\\\\Users\\\\johan\\\\OneDrive\\\\Bureau\\\\PFE-Goteborg\\\\Scripts\\\\SXBQ.py'>"
      ]
     },
     "execution_count": 2,
     "metadata": {},
     "output_type": "execute_result"
    }
   ],
   "source": [
    "import importlib, os, gsw, gc\n",
    "\n",
    "import pandas as pd\n",
    "import xarray as xr\n",
    "import numpy as np\n",
    "from scipy.interpolate import interp1d\n",
    "from scipy.optimize import fmin\n",
    "from tqdm import tqdm\n",
    "\n",
    "import SXBQ as sx\n",
    "\n",
    "import matplotlib.pyplot as plt\n",
    "from matplotlib.widgets import Slider\n",
    "%matplotlib widget\n",
    "\n",
    "importlib.reload(sx)"
   ]
  },
  {
   "cell_type": "markdown",
   "id": "04bef689-3913-4603-89ae-267eb30f0870",
   "metadata": {},
   "source": [
    "# LOAD HYDROGRAPHIC DATA"
   ]
  },
  {
   "cell_type": "code",
   "execution_count": 2,
   "id": "2afd0c12-c1d1-476d-b77d-03cb5300909b",
   "metadata": {},
   "outputs": [],
   "source": [
    "data = sx.sxdf()\n",
    "data.data = pd.read_parquet('C://Users/johan/OneDrive/Bureau/PFE-Goteborg/results.pqt')\n",
    "\n",
    "top_mounted = True\n",
    "\n",
    "def delimitateProfiles():\n",
    "    #data.data.sort_values('Timestamp', ignore_index=True, inplace=True)\n",
    "    data.median_resample()\n",
    "\n",
    "    _gd = np.isfinite(data.data['diveNum'].values)\n",
    "    _, _tmp = np.unique( np.round(data.data['diveNum'].values[_gd]) , return_inverse=True)\n",
    "\n",
    "    data.data.loc[_gd,'diveNum'] = np.round(_tmp+1)\n",
    "    data.data['diveNum'] = data.data['diveNum'].interpolate('nearest')\n",
    "        \n",
    "    data.data['profileNum'] = data.data['diveNum'].values*2\n",
    "    _tmp = data.data['NAV_RESOURCE'].interpolate('nearest').values\n",
    "    ind = (_tmp == 100) | (_tmp == 110) | (_tmp == 116)\n",
    "    data.data.loc[ind,'profileNum'] = data.data.loc[ind,'profileNum'] - 1\n",
    "\n",
    "delimitateProfiles()\n",
    "\n",
    "def rmsd(x):\n",
    "    return np.sqrt(np.nanmean(x**2))\n",
    "\n",
    "#data.data"
   ]
  },
  {
   "cell_type": "markdown",
   "id": "51605738-bbdd-4d9c-a4fa-254713b9ea53",
   "metadata": {},
   "source": [
    "# LOAD ADCP DATA"
   ]
  },
  {
   "cell_type": "code",
   "execution_count": 3,
   "id": "9525eabb-a225-4473-9e58-ded14afd223e",
   "metadata": {},
   "outputs": [
    {
     "data": {
      "text/html": [
       "<div><svg style=\"position: absolute; width: 0; height: 0; overflow: hidden\">\n",
       "<defs>\n",
       "<symbol id=\"icon-database\" viewBox=\"0 0 32 32\">\n",
       "<path d=\"M16 0c-8.837 0-16 2.239-16 5v4c0 2.761 7.163 5 16 5s16-2.239 16-5v-4c0-2.761-7.163-5-16-5z\"></path>\n",
       "<path d=\"M16 17c-8.837 0-16-2.239-16-5v6c0 2.761 7.163 5 16 5s16-2.239 16-5v-6c0 2.761-7.163 5-16 5z\"></path>\n",
       "<path d=\"M16 26c-8.837 0-16-2.239-16-5v6c0 2.761 7.163 5 16 5s16-2.239 16-5v-6c0 2.761-7.163 5-16 5z\"></path>\n",
       "</symbol>\n",
       "<symbol id=\"icon-file-text2\" viewBox=\"0 0 32 32\">\n",
       "<path d=\"M28.681 7.159c-0.694-0.947-1.662-2.053-2.724-3.116s-2.169-2.030-3.116-2.724c-1.612-1.182-2.393-1.319-2.841-1.319h-15.5c-1.378 0-2.5 1.121-2.5 2.5v27c0 1.378 1.122 2.5 2.5 2.5h23c1.378 0 2.5-1.122 2.5-2.5v-19.5c0-0.448-0.137-1.23-1.319-2.841zM24.543 5.457c0.959 0.959 1.712 1.825 2.268 2.543h-4.811v-4.811c0.718 0.556 1.584 1.309 2.543 2.268zM28 29.5c0 0.271-0.229 0.5-0.5 0.5h-23c-0.271 0-0.5-0.229-0.5-0.5v-27c0-0.271 0.229-0.5 0.5-0.5 0 0 15.499-0 15.5 0v7c0 0.552 0.448 1 1 1h7v19.5z\"></path>\n",
       "<path d=\"M23 26h-14c-0.552 0-1-0.448-1-1s0.448-1 1-1h14c0.552 0 1 0.448 1 1s-0.448 1-1 1z\"></path>\n",
       "<path d=\"M23 22h-14c-0.552 0-1-0.448-1-1s0.448-1 1-1h14c0.552 0 1 0.448 1 1s-0.448 1-1 1z\"></path>\n",
       "<path d=\"M23 18h-14c-0.552 0-1-0.448-1-1s0.448-1 1-1h14c0.552 0 1 0.448 1 1s-0.448 1-1 1z\"></path>\n",
       "</symbol>\n",
       "</defs>\n",
       "</svg>\n",
       "<style>/* CSS stylesheet for displaying xarray objects in jupyterlab.\n",
       " *\n",
       " */\n",
       "\n",
       ":root {\n",
       "  --xr-font-color0: var(--jp-content-font-color0, rgba(0, 0, 0, 1));\n",
       "  --xr-font-color2: var(--jp-content-font-color2, rgba(0, 0, 0, 0.54));\n",
       "  --xr-font-color3: var(--jp-content-font-color3, rgba(0, 0, 0, 0.38));\n",
       "  --xr-border-color: var(--jp-border-color2, #e0e0e0);\n",
       "  --xr-disabled-color: var(--jp-layout-color3, #bdbdbd);\n",
       "  --xr-background-color: var(--jp-layout-color0, white);\n",
       "  --xr-background-color-row-even: var(--jp-layout-color1, white);\n",
       "  --xr-background-color-row-odd: var(--jp-layout-color2, #eeeeee);\n",
       "}\n",
       "\n",
       "html[theme=dark],\n",
       "body.vscode-dark {\n",
       "  --xr-font-color0: rgba(255, 255, 255, 1);\n",
       "  --xr-font-color2: rgba(255, 255, 255, 0.54);\n",
       "  --xr-font-color3: rgba(255, 255, 255, 0.38);\n",
       "  --xr-border-color: #1F1F1F;\n",
       "  --xr-disabled-color: #515151;\n",
       "  --xr-background-color: #111111;\n",
       "  --xr-background-color-row-even: #111111;\n",
       "  --xr-background-color-row-odd: #313131;\n",
       "}\n",
       "\n",
       ".xr-wrap {\n",
       "  display: block;\n",
       "  min-width: 300px;\n",
       "  max-width: 700px;\n",
       "}\n",
       "\n",
       ".xr-text-repr-fallback {\n",
       "  /* fallback to plain text repr when CSS is not injected (untrusted notebook) */\n",
       "  display: none;\n",
       "}\n",
       "\n",
       ".xr-header {\n",
       "  padding-top: 6px;\n",
       "  padding-bottom: 6px;\n",
       "  margin-bottom: 4px;\n",
       "  border-bottom: solid 1px var(--xr-border-color);\n",
       "}\n",
       "\n",
       ".xr-header > div,\n",
       ".xr-header > ul {\n",
       "  display: inline;\n",
       "  margin-top: 0;\n",
       "  margin-bottom: 0;\n",
       "}\n",
       "\n",
       ".xr-obj-type,\n",
       ".xr-array-name {\n",
       "  margin-left: 2px;\n",
       "  margin-right: 10px;\n",
       "}\n",
       "\n",
       ".xr-obj-type {\n",
       "  color: var(--xr-font-color2);\n",
       "}\n",
       "\n",
       ".xr-sections {\n",
       "  padding-left: 0 !important;\n",
       "  display: grid;\n",
       "  grid-template-columns: 150px auto auto 1fr 20px 20px;\n",
       "}\n",
       "\n",
       ".xr-section-item {\n",
       "  display: contents;\n",
       "}\n",
       "\n",
       ".xr-section-item input {\n",
       "  display: none;\n",
       "}\n",
       "\n",
       ".xr-section-item input + label {\n",
       "  color: var(--xr-disabled-color);\n",
       "}\n",
       "\n",
       ".xr-section-item input:enabled + label {\n",
       "  cursor: pointer;\n",
       "  color: var(--xr-font-color2);\n",
       "}\n",
       "\n",
       ".xr-section-item input:enabled + label:hover {\n",
       "  color: var(--xr-font-color0);\n",
       "}\n",
       "\n",
       ".xr-section-summary {\n",
       "  grid-column: 1;\n",
       "  color: var(--xr-font-color2);\n",
       "  font-weight: 500;\n",
       "}\n",
       "\n",
       ".xr-section-summary > span {\n",
       "  display: inline-block;\n",
       "  padding-left: 0.5em;\n",
       "}\n",
       "\n",
       ".xr-section-summary-in:disabled + label {\n",
       "  color: var(--xr-font-color2);\n",
       "}\n",
       "\n",
       ".xr-section-summary-in + label:before {\n",
       "  display: inline-block;\n",
       "  content: '►';\n",
       "  font-size: 11px;\n",
       "  width: 15px;\n",
       "  text-align: center;\n",
       "}\n",
       "\n",
       ".xr-section-summary-in:disabled + label:before {\n",
       "  color: var(--xr-disabled-color);\n",
       "}\n",
       "\n",
       ".xr-section-summary-in:checked + label:before {\n",
       "  content: '▼';\n",
       "}\n",
       "\n",
       ".xr-section-summary-in:checked + label > span {\n",
       "  display: none;\n",
       "}\n",
       "\n",
       ".xr-section-summary,\n",
       ".xr-section-inline-details {\n",
       "  padding-top: 4px;\n",
       "  padding-bottom: 4px;\n",
       "}\n",
       "\n",
       ".xr-section-inline-details {\n",
       "  grid-column: 2 / -1;\n",
       "}\n",
       "\n",
       ".xr-section-details {\n",
       "  display: none;\n",
       "  grid-column: 1 / -1;\n",
       "  margin-bottom: 5px;\n",
       "}\n",
       "\n",
       ".xr-section-summary-in:checked ~ .xr-section-details {\n",
       "  display: contents;\n",
       "}\n",
       "\n",
       ".xr-array-wrap {\n",
       "  grid-column: 1 / -1;\n",
       "  display: grid;\n",
       "  grid-template-columns: 20px auto;\n",
       "}\n",
       "\n",
       ".xr-array-wrap > label {\n",
       "  grid-column: 1;\n",
       "  vertical-align: top;\n",
       "}\n",
       "\n",
       ".xr-preview {\n",
       "  color: var(--xr-font-color3);\n",
       "}\n",
       "\n",
       ".xr-array-preview,\n",
       ".xr-array-data {\n",
       "  padding: 0 5px !important;\n",
       "  grid-column: 2;\n",
       "}\n",
       "\n",
       ".xr-array-data,\n",
       ".xr-array-in:checked ~ .xr-array-preview {\n",
       "  display: none;\n",
       "}\n",
       "\n",
       ".xr-array-in:checked ~ .xr-array-data,\n",
       ".xr-array-preview {\n",
       "  display: inline-block;\n",
       "}\n",
       "\n",
       ".xr-dim-list {\n",
       "  display: inline-block !important;\n",
       "  list-style: none;\n",
       "  padding: 0 !important;\n",
       "  margin: 0;\n",
       "}\n",
       "\n",
       ".xr-dim-list li {\n",
       "  display: inline-block;\n",
       "  padding: 0;\n",
       "  margin: 0;\n",
       "}\n",
       "\n",
       ".xr-dim-list:before {\n",
       "  content: '(';\n",
       "}\n",
       "\n",
       ".xr-dim-list:after {\n",
       "  content: ')';\n",
       "}\n",
       "\n",
       ".xr-dim-list li:not(:last-child):after {\n",
       "  content: ',';\n",
       "  padding-right: 5px;\n",
       "}\n",
       "\n",
       ".xr-has-index {\n",
       "  font-weight: bold;\n",
       "}\n",
       "\n",
       ".xr-var-list,\n",
       ".xr-var-item {\n",
       "  display: contents;\n",
       "}\n",
       "\n",
       ".xr-var-item > div,\n",
       ".xr-var-item label,\n",
       ".xr-var-item > .xr-var-name span {\n",
       "  background-color: var(--xr-background-color-row-even);\n",
       "  margin-bottom: 0;\n",
       "}\n",
       "\n",
       ".xr-var-item > .xr-var-name:hover span {\n",
       "  padding-right: 5px;\n",
       "}\n",
       "\n",
       ".xr-var-list > li:nth-child(odd) > div,\n",
       ".xr-var-list > li:nth-child(odd) > label,\n",
       ".xr-var-list > li:nth-child(odd) > .xr-var-name span {\n",
       "  background-color: var(--xr-background-color-row-odd);\n",
       "}\n",
       "\n",
       ".xr-var-name {\n",
       "  grid-column: 1;\n",
       "}\n",
       "\n",
       ".xr-var-dims {\n",
       "  grid-column: 2;\n",
       "}\n",
       "\n",
       ".xr-var-dtype {\n",
       "  grid-column: 3;\n",
       "  text-align: right;\n",
       "  color: var(--xr-font-color2);\n",
       "}\n",
       "\n",
       ".xr-var-preview {\n",
       "  grid-column: 4;\n",
       "}\n",
       "\n",
       ".xr-var-name,\n",
       ".xr-var-dims,\n",
       ".xr-var-dtype,\n",
       ".xr-preview,\n",
       ".xr-attrs dt {\n",
       "  white-space: nowrap;\n",
       "  overflow: hidden;\n",
       "  text-overflow: ellipsis;\n",
       "  padding-right: 10px;\n",
       "}\n",
       "\n",
       ".xr-var-name:hover,\n",
       ".xr-var-dims:hover,\n",
       ".xr-var-dtype:hover,\n",
       ".xr-attrs dt:hover {\n",
       "  overflow: visible;\n",
       "  width: auto;\n",
       "  z-index: 1;\n",
       "}\n",
       "\n",
       ".xr-var-attrs,\n",
       ".xr-var-data {\n",
       "  display: none;\n",
       "  background-color: var(--xr-background-color) !important;\n",
       "  padding-bottom: 5px !important;\n",
       "}\n",
       "\n",
       ".xr-var-attrs-in:checked ~ .xr-var-attrs,\n",
       ".xr-var-data-in:checked ~ .xr-var-data {\n",
       "  display: block;\n",
       "}\n",
       "\n",
       ".xr-var-data > table {\n",
       "  float: right;\n",
       "}\n",
       "\n",
       ".xr-var-name span,\n",
       ".xr-var-data,\n",
       ".xr-attrs {\n",
       "  padding-left: 25px !important;\n",
       "}\n",
       "\n",
       ".xr-attrs,\n",
       ".xr-var-attrs,\n",
       ".xr-var-data {\n",
       "  grid-column: 1 / -1;\n",
       "}\n",
       "\n",
       "dl.xr-attrs {\n",
       "  padding: 0;\n",
       "  margin: 0;\n",
       "  display: grid;\n",
       "  grid-template-columns: 125px auto;\n",
       "}\n",
       "\n",
       ".xr-attrs dt,\n",
       ".xr-attrs dd {\n",
       "  padding: 0;\n",
       "  margin: 0;\n",
       "  float: left;\n",
       "  padding-right: 10px;\n",
       "  width: auto;\n",
       "}\n",
       "\n",
       ".xr-attrs dt {\n",
       "  font-weight: normal;\n",
       "  grid-column: 1;\n",
       "}\n",
       "\n",
       ".xr-attrs dt:hover span {\n",
       "  display: inline-block;\n",
       "  background: var(--xr-background-color);\n",
       "  padding-right: 10px;\n",
       "}\n",
       "\n",
       ".xr-attrs dd {\n",
       "  grid-column: 2;\n",
       "  white-space: pre-wrap;\n",
       "  word-break: break-all;\n",
       "}\n",
       "\n",
       ".xr-icon-database,\n",
       ".xr-icon-file-text2 {\n",
       "  display: inline-block;\n",
       "  vertical-align: middle;\n",
       "  width: 1em;\n",
       "  height: 1.5em !important;\n",
       "  stroke-width: 0;\n",
       "  stroke: currentColor;\n",
       "  fill: currentColor;\n",
       "}\n",
       "</style><pre class='xr-text-repr-fallback'>&lt;xarray.Dataset&gt;\n",
       "Dimensions:           (bin: 15, time: 183468)\n",
       "Coordinates:\n",
       "  * time              (time) object 1597909692438000000 ... 1600074055438000000\n",
       "Dimensions without coordinates: bin\n",
       "Data variables: (12/27)\n",
       "    Month             (time) int64 8 8 8 8 8 8 8 8 8 8 8 ... 9 9 9 9 9 9 9 9 9 9\n",
       "    Day               (time) int64 20 20 20 20 20 20 20 ... 10 10 10 10 14 14 14\n",
       "    Year              (time) int64 2020 2020 2020 2020 ... 2020 2020 2020 2020\n",
       "    Hour              (time) int64 7 7 7 7 7 7 7 7 7 ... 14 14 14 14 14 14 9 9 9\n",
       "    Minute            (time) int64 48 48 48 48 48 49 49 49 ... 7 7 7 7 7 0 0 0\n",
       "    Second            (time) float64 12.44 22.44 32.44 ... 35.44 45.44 55.44\n",
       "    ...                ...\n",
       "    V2                (time, bin) float64 0.127 -0.083 -0.627 ... 0.971 1.979\n",
       "    C2                (time, bin) float64 48.0 0.0 1.0 0.0 ... 2.0 3.0 1.0 2.0\n",
       "    V3                (time, bin) float64 0.0 -1.065 -1.168 ... 1.946 0.748\n",
       "    C3                (time, bin) float64 56.0 2.0 3.0 1.0 ... 0.0 2.0 5.0 2.0\n",
       "    V4                (time, bin) float64 0.1 2.003 -0.928 ... -2.223 1.973\n",
       "    C4                (time, bin) float64 47.0 0.0 0.0 0.0 ... 3.0 0.0 1.0 2.0</pre><div class='xr-wrap' hidden><div class='xr-header'><div class='xr-obj-type'>xarray.Dataset</div></div><ul class='xr-sections'><li class='xr-section-item'><input id='section-9daca755-fc5f-41a9-a115-b421f36b9e78' class='xr-section-summary-in' type='checkbox' disabled ><label for='section-9daca755-fc5f-41a9-a115-b421f36b9e78' class='xr-section-summary'  title='Expand/collapse section'>Dimensions:</label><div class='xr-section-inline-details'><ul class='xr-dim-list'><li><span>bin</span>: 15</li><li><span class='xr-has-index'>time</span>: 183468</li></ul></div><div class='xr-section-details'></div></li><li class='xr-section-item'><input id='section-a9032580-a279-4fd4-8f47-2691c87ded79' class='xr-section-summary-in' type='checkbox'  checked><label for='section-a9032580-a279-4fd4-8f47-2691c87ded79' class='xr-section-summary' >Coordinates: <span>(1)</span></label><div class='xr-section-inline-details'></div><div class='xr-section-details'><ul class='xr-var-list'><li class='xr-var-item'><div class='xr-var-name'><span class='xr-has-index'>time</span></div><div class='xr-var-dims'>(time)</div><div class='xr-var-dtype'>object</div><div class='xr-var-preview xr-preview'>1597909692438000000 ... 16000740...</div><input id='attrs-1fcd6a99-8d8c-4d68-b4dd-c287f19a797a' class='xr-var-attrs-in' type='checkbox' disabled><label for='attrs-1fcd6a99-8d8c-4d68-b4dd-c287f19a797a' title='Show/Hide attributes'><svg class='icon xr-icon-file-text2'><use xlink:href='#icon-file-text2'></use></svg></label><input id='data-f3ccfe16-7f5d-4a80-8af3-744329b797e6' class='xr-var-data-in' type='checkbox'><label for='data-f3ccfe16-7f5d-4a80-8af3-744329b797e6' title='Show/Hide data repr'><svg class='icon xr-icon-database'><use xlink:href='#icon-database'></use></svg></label><div class='xr-var-attrs'><dl class='xr-attrs'></dl></div><div class='xr-var-data'><pre>array([1597909692438000000, 1597909702438000000, 1597909712438000000, ...,\n",
       "       1600074035438000000, 1600074045438000000, 1600074055438000000],\n",
       "      dtype=object)</pre></div></li></ul></div></li><li class='xr-section-item'><input id='section-e2650b60-e1df-4f40-bd9d-103e689e0949' class='xr-section-summary-in' type='checkbox'  ><label for='section-e2650b60-e1df-4f40-bd9d-103e689e0949' class='xr-section-summary' >Data variables: <span>(27)</span></label><div class='xr-section-inline-details'></div><div class='xr-section-details'><ul class='xr-var-list'><li class='xr-var-item'><div class='xr-var-name'><span>Month</span></div><div class='xr-var-dims'>(time)</div><div class='xr-var-dtype'>int64</div><div class='xr-var-preview xr-preview'>8 8 8 8 8 8 8 8 ... 9 9 9 9 9 9 9 9</div><input id='attrs-078b2116-8d42-4791-a4c5-a9c7f06c94cf' class='xr-var-attrs-in' type='checkbox' disabled><label for='attrs-078b2116-8d42-4791-a4c5-a9c7f06c94cf' title='Show/Hide attributes'><svg class='icon xr-icon-file-text2'><use xlink:href='#icon-file-text2'></use></svg></label><input id='data-12d2d408-3435-4ae8-ae5d-2731cb4ebb5c' class='xr-var-data-in' type='checkbox'><label for='data-12d2d408-3435-4ae8-ae5d-2731cb4ebb5c' title='Show/Hide data repr'><svg class='icon xr-icon-database'><use xlink:href='#icon-database'></use></svg></label><div class='xr-var-attrs'><dl class='xr-attrs'></dl></div><div class='xr-var-data'><pre>array([8, 8, 8, ..., 9, 9, 9], dtype=int64)</pre></div></li><li class='xr-var-item'><div class='xr-var-name'><span>Day</span></div><div class='xr-var-dims'>(time)</div><div class='xr-var-dtype'>int64</div><div class='xr-var-preview xr-preview'>20 20 20 20 20 ... 10 10 14 14 14</div><input id='attrs-1e0e7ecd-1cca-4398-b262-648ed5c61508' class='xr-var-attrs-in' type='checkbox' disabled><label for='attrs-1e0e7ecd-1cca-4398-b262-648ed5c61508' title='Show/Hide attributes'><svg class='icon xr-icon-file-text2'><use xlink:href='#icon-file-text2'></use></svg></label><input id='data-61ce39bb-ce82-4b29-aaab-bb25b80b588e' class='xr-var-data-in' type='checkbox'><label for='data-61ce39bb-ce82-4b29-aaab-bb25b80b588e' title='Show/Hide data repr'><svg class='icon xr-icon-database'><use xlink:href='#icon-database'></use></svg></label><div class='xr-var-attrs'><dl class='xr-attrs'></dl></div><div class='xr-var-data'><pre>array([20, 20, 20, ..., 14, 14, 14], dtype=int64)</pre></div></li><li class='xr-var-item'><div class='xr-var-name'><span>Year</span></div><div class='xr-var-dims'>(time)</div><div class='xr-var-dtype'>int64</div><div class='xr-var-preview xr-preview'>2020 2020 2020 ... 2020 2020 2020</div><input id='attrs-09f4cdbd-1548-42da-b843-4639c08deb23' class='xr-var-attrs-in' type='checkbox' disabled><label for='attrs-09f4cdbd-1548-42da-b843-4639c08deb23' title='Show/Hide attributes'><svg class='icon xr-icon-file-text2'><use xlink:href='#icon-file-text2'></use></svg></label><input id='data-26e4aea8-de83-498c-ae59-479261dcc420' class='xr-var-data-in' type='checkbox'><label for='data-26e4aea8-de83-498c-ae59-479261dcc420' title='Show/Hide data repr'><svg class='icon xr-icon-database'><use xlink:href='#icon-database'></use></svg></label><div class='xr-var-attrs'><dl class='xr-attrs'></dl></div><div class='xr-var-data'><pre>array([2020, 2020, 2020, ..., 2020, 2020, 2020], dtype=int64)</pre></div></li><li class='xr-var-item'><div class='xr-var-name'><span>Hour</span></div><div class='xr-var-dims'>(time)</div><div class='xr-var-dtype'>int64</div><div class='xr-var-preview xr-preview'>7 7 7 7 7 7 7 ... 14 14 14 14 9 9 9</div><input id='attrs-3f271a01-ce25-45e6-a156-d6a1920d37d2' class='xr-var-attrs-in' type='checkbox' disabled><label for='attrs-3f271a01-ce25-45e6-a156-d6a1920d37d2' title='Show/Hide attributes'><svg class='icon xr-icon-file-text2'><use xlink:href='#icon-file-text2'></use></svg></label><input id='data-3fab243c-fe14-4637-9829-373b759bb3bc' class='xr-var-data-in' type='checkbox'><label for='data-3fab243c-fe14-4637-9829-373b759bb3bc' title='Show/Hide data repr'><svg class='icon xr-icon-database'><use xlink:href='#icon-database'></use></svg></label><div class='xr-var-attrs'><dl class='xr-attrs'></dl></div><div class='xr-var-data'><pre>array([7, 7, 7, ..., 9, 9, 9], dtype=int64)</pre></div></li><li class='xr-var-item'><div class='xr-var-name'><span>Minute</span></div><div class='xr-var-dims'>(time)</div><div class='xr-var-dtype'>int64</div><div class='xr-var-preview xr-preview'>48 48 48 48 48 49 ... 7 7 7 0 0 0</div><input id='attrs-2dc42afa-4741-4119-8a92-4f4ef7218b48' class='xr-var-attrs-in' type='checkbox' disabled><label for='attrs-2dc42afa-4741-4119-8a92-4f4ef7218b48' title='Show/Hide attributes'><svg class='icon xr-icon-file-text2'><use xlink:href='#icon-file-text2'></use></svg></label><input id='data-ccbb718f-d704-4bbd-a39c-cac6c2267d91' class='xr-var-data-in' type='checkbox'><label for='data-ccbb718f-d704-4bbd-a39c-cac6c2267d91' title='Show/Hide data repr'><svg class='icon xr-icon-database'><use xlink:href='#icon-database'></use></svg></label><div class='xr-var-attrs'><dl class='xr-attrs'></dl></div><div class='xr-var-data'><pre>array([48, 48, 48, ...,  0,  0,  0], dtype=int64)</pre></div></li><li class='xr-var-item'><div class='xr-var-name'><span>Second</span></div><div class='xr-var-dims'>(time)</div><div class='xr-var-dtype'>float64</div><div class='xr-var-preview xr-preview'>12.44 22.44 32.44 ... 45.44 55.44</div><input id='attrs-41789380-defe-4774-993b-00e38d8773f9' class='xr-var-attrs-in' type='checkbox' disabled><label for='attrs-41789380-defe-4774-993b-00e38d8773f9' title='Show/Hide attributes'><svg class='icon xr-icon-file-text2'><use xlink:href='#icon-file-text2'></use></svg></label><input id='data-9d15eb3a-eb4f-43a5-b049-9a9be02b9b9d' class='xr-var-data-in' type='checkbox'><label for='data-9d15eb3a-eb4f-43a5-b049-9a9be02b9b9d' title='Show/Hide data repr'><svg class='icon xr-icon-database'><use xlink:href='#icon-database'></use></svg></label><div class='xr-var-attrs'><dl class='xr-attrs'></dl></div><div class='xr-var-data'><pre>array([12.438, 22.438, 32.438, ..., 35.438, 45.438, 55.438])</pre></div></li><li class='xr-var-item'><div class='xr-var-name'><span>Burst counter</span></div><div class='xr-var-dims'>(time)</div><div class='xr-var-dtype'>int64</div><div class='xr-var-preview xr-preview'>1 1 1 1 1 1 1 1 ... 1 1 1 1 1 1 1 1</div><input id='attrs-be3948fc-38d0-4d7a-a518-f2a2190acc2f' class='xr-var-attrs-in' type='checkbox' disabled><label for='attrs-be3948fc-38d0-4d7a-a518-f2a2190acc2f' title='Show/Hide attributes'><svg class='icon xr-icon-file-text2'><use xlink:href='#icon-file-text2'></use></svg></label><input id='data-20abb31a-838c-4668-aec1-684f8e182e88' class='xr-var-data-in' type='checkbox'><label for='data-20abb31a-838c-4668-aec1-684f8e182e88' title='Show/Hide data repr'><svg class='icon xr-icon-database'><use xlink:href='#icon-database'></use></svg></label><div class='xr-var-attrs'><dl class='xr-attrs'></dl></div><div class='xr-var-data'><pre>array([1, 1, 1, ..., 1, 1, 1], dtype=int64)</pre></div></li><li class='xr-var-item'><div class='xr-var-name'><span>Ensemble counter</span></div><div class='xr-var-dims'>(time)</div><div class='xr-var-dtype'>int64</div><div class='xr-var-preview xr-preview'>1 1 1 1 1 1 1 1 ... 1 1 1 1 1 1 1 1</div><input id='attrs-15c58ff6-d431-48c6-b056-0ec3044f76d2' class='xr-var-attrs-in' type='checkbox' disabled><label for='attrs-15c58ff6-d431-48c6-b056-0ec3044f76d2' title='Show/Hide attributes'><svg class='icon xr-icon-file-text2'><use xlink:href='#icon-file-text2'></use></svg></label><input id='data-c129fb35-ff31-4751-b239-5608e161b055' class='xr-var-data-in' type='checkbox'><label for='data-c129fb35-ff31-4751-b239-5608e161b055' title='Show/Hide data repr'><svg class='icon xr-icon-database'><use xlink:href='#icon-database'></use></svg></label><div class='xr-var-attrs'><dl class='xr-attrs'></dl></div><div class='xr-var-data'><pre>array([1, 1, 1, ..., 1, 1, 1], dtype=int64)</pre></div></li><li class='xr-var-item'><div class='xr-var-name'><span>Error code</span></div><div class='xr-var-dims'>(time)</div><div class='xr-var-dtype'>int64</div><div class='xr-var-preview xr-preview'>0 0 0 0 0 0 0 0 ... 0 0 0 0 0 0 0 0</div><input id='attrs-51626390-9a04-4ec9-ab15-ec967bee3abc' class='xr-var-attrs-in' type='checkbox' disabled><label for='attrs-51626390-9a04-4ec9-ab15-ec967bee3abc' title='Show/Hide attributes'><svg class='icon xr-icon-file-text2'><use xlink:href='#icon-file-text2'></use></svg></label><input id='data-c112f2fa-bb3c-46df-a9ab-821df71afbc5' class='xr-var-data-in' type='checkbox'><label for='data-c112f2fa-bb3c-46df-a9ab-821df71afbc5' title='Show/Hide data repr'><svg class='icon xr-icon-database'><use xlink:href='#icon-database'></use></svg></label><div class='xr-var-attrs'><dl class='xr-attrs'></dl></div><div class='xr-var-data'><pre>array([0, 0, 0, ..., 0, 0, 0], dtype=int64)</pre></div></li><li class='xr-var-item'><div class='xr-var-name'><span>Status code</span></div><div class='xr-var-dims'>(time)</div><div class='xr-var-dtype'>int64</div><div class='xr-var-preview xr-preview'>100000 100000 ... 10000 10000</div><input id='attrs-d6127a82-982f-431a-8af1-73eaf61d0bd5' class='xr-var-attrs-in' type='checkbox' disabled><label for='attrs-d6127a82-982f-431a-8af1-73eaf61d0bd5' title='Show/Hide attributes'><svg class='icon xr-icon-file-text2'><use xlink:href='#icon-file-text2'></use></svg></label><input id='data-ef34cbdf-ae33-497e-976d-44a790f30287' class='xr-var-data-in' type='checkbox'><label for='data-ef34cbdf-ae33-497e-976d-44a790f30287' title='Show/Hide data repr'><svg class='icon xr-icon-database'><use xlink:href='#icon-database'></use></svg></label><div class='xr-var-attrs'><dl class='xr-attrs'></dl></div><div class='xr-var-data'><pre>array([100000, 100000, 100000, ...,  10000,  10000,  10000], dtype=int64)</pre></div></li><li class='xr-var-item'><div class='xr-var-name'><span>Battery voltage</span></div><div class='xr-var-dims'>(time)</div><div class='xr-var-dtype'>float64</div><div class='xr-var-preview xr-preview'>11.7 11.6 11.7 ... 11.6 11.6 11.6</div><input id='attrs-7611d008-b4b8-4ccb-927b-e10d2b060d5e' class='xr-var-attrs-in' type='checkbox' disabled><label for='attrs-7611d008-b4b8-4ccb-927b-e10d2b060d5e' title='Show/Hide attributes'><svg class='icon xr-icon-file-text2'><use xlink:href='#icon-file-text2'></use></svg></label><input id='data-0c784ffe-26bb-460b-a69f-197e3d486d53' class='xr-var-data-in' type='checkbox'><label for='data-0c784ffe-26bb-460b-a69f-197e3d486d53' title='Show/Hide data repr'><svg class='icon xr-icon-database'><use xlink:href='#icon-database'></use></svg></label><div class='xr-var-attrs'><dl class='xr-attrs'></dl></div><div class='xr-var-data'><pre>array([11.7, 11.6, 11.7, ..., 11.6, 11.6, 11.6])</pre></div></li><li class='xr-var-item'><div class='xr-var-name'><span>Soundspeed</span></div><div class='xr-var-dims'>(time)</div><div class='xr-var-dtype'>float64</div><div class='xr-var-preview xr-preview'>1.531e+03 1.531e+03 ... 1.527e+03</div><input id='attrs-dfded588-1fdd-4ce5-ada0-46235a016cba' class='xr-var-attrs-in' type='checkbox' disabled><label for='attrs-dfded588-1fdd-4ce5-ada0-46235a016cba' title='Show/Hide attributes'><svg class='icon xr-icon-file-text2'><use xlink:href='#icon-file-text2'></use></svg></label><input id='data-55718d95-1b21-4521-9f0e-26ba58031c15' class='xr-var-data-in' type='checkbox'><label for='data-55718d95-1b21-4521-9f0e-26ba58031c15' title='Show/Hide data repr'><svg class='icon xr-icon-database'><use xlink:href='#icon-database'></use></svg></label><div class='xr-var-attrs'><dl class='xr-attrs'></dl></div><div class='xr-var-data'><pre>array([1530.7, 1530.7, 1530.7, ..., 1526.8, 1526.8, 1526.8])</pre></div></li><li class='xr-var-item'><div class='xr-var-name'><span>Heading</span></div><div class='xr-var-dims'>(time)</div><div class='xr-var-dtype'>float64</div><div class='xr-var-preview xr-preview'>358.8 354.9 341.8 ... 192.8 193.1</div><input id='attrs-32e8ab90-ec2f-4bdb-8412-1782a1284117' class='xr-var-attrs-in' type='checkbox' disabled><label for='attrs-32e8ab90-ec2f-4bdb-8412-1782a1284117' title='Show/Hide attributes'><svg class='icon xr-icon-file-text2'><use xlink:href='#icon-file-text2'></use></svg></label><input id='data-37fecc5f-f306-4624-815f-6ef0e91b797b' class='xr-var-data-in' type='checkbox'><label for='data-37fecc5f-f306-4624-815f-6ef0e91b797b' title='Show/Hide data repr'><svg class='icon xr-icon-database'><use xlink:href='#icon-database'></use></svg></label><div class='xr-var-attrs'><dl class='xr-attrs'></dl></div><div class='xr-var-data'><pre>array([358.8, 354.9, 341.8, ..., 192.7, 192.8, 193.1])</pre></div></li><li class='xr-var-item'><div class='xr-var-name'><span>Pitch</span></div><div class='xr-var-dims'>(time)</div><div class='xr-var-dtype'>float64</div><div class='xr-var-preview xr-preview'>0.8 0.7 0.6 -0.8 ... 0.9 0.9 0.9</div><input id='attrs-a7dc8afa-bd95-482a-81fc-709827930d4a' class='xr-var-attrs-in' type='checkbox' disabled><label for='attrs-a7dc8afa-bd95-482a-81fc-709827930d4a' title='Show/Hide attributes'><svg class='icon xr-icon-file-text2'><use xlink:href='#icon-file-text2'></use></svg></label><input id='data-998f2726-5685-4bc1-9b8d-90a7d4c763de' class='xr-var-data-in' type='checkbox'><label for='data-998f2726-5685-4bc1-9b8d-90a7d4c763de' title='Show/Hide data repr'><svg class='icon xr-icon-database'><use xlink:href='#icon-database'></use></svg></label><div class='xr-var-attrs'><dl class='xr-attrs'></dl></div><div class='xr-var-data'><pre>array([0.8, 0.7, 0.6, ..., 0.9, 0.9, 0.9])</pre></div></li><li class='xr-var-item'><div class='xr-var-name'><span>Roll</span></div><div class='xr-var-dims'>(time)</div><div class='xr-var-dtype'>float64</div><div class='xr-var-preview xr-preview'>0.4 0.6 3.3 -1.1 ... -4.1 -4.1 -4.1</div><input id='attrs-8bafa0d7-9b8e-49cd-b17f-05ec320ff5a8' class='xr-var-attrs-in' type='checkbox' disabled><label for='attrs-8bafa0d7-9b8e-49cd-b17f-05ec320ff5a8' title='Show/Hide attributes'><svg class='icon xr-icon-file-text2'><use xlink:href='#icon-file-text2'></use></svg></label><input id='data-afe3ef4b-ceed-4c49-be0f-477aeec25759' class='xr-var-data-in' type='checkbox'><label for='data-afe3ef4b-ceed-4c49-be0f-477aeec25759' title='Show/Hide data repr'><svg class='icon xr-icon-database'><use xlink:href='#icon-database'></use></svg></label><div class='xr-var-attrs'><dl class='xr-attrs'></dl></div><div class='xr-var-data'><pre>array([ 0.4,  0.6,  3.3, ..., -4.1, -4.1, -4.1])</pre></div></li><li class='xr-var-item'><div class='xr-var-name'><span>Pressure</span></div><div class='xr-var-dims'>(time)</div><div class='xr-var-dtype'>float64</div><div class='xr-var-preview xr-preview'>0.871 0.812 0.844 ... 1.016 0.996</div><input id='attrs-ea88f826-9e37-41ec-8d07-9c712105572b' class='xr-var-attrs-in' type='checkbox' disabled><label for='attrs-ea88f826-9e37-41ec-8d07-9c712105572b' title='Show/Hide attributes'><svg class='icon xr-icon-file-text2'><use xlink:href='#icon-file-text2'></use></svg></label><input id='data-29d899d1-9919-4fb2-bb7d-8a1e5f630ee3' class='xr-var-data-in' type='checkbox'><label for='data-29d899d1-9919-4fb2-bb7d-8a1e5f630ee3' title='Show/Hide data repr'><svg class='icon xr-icon-database'><use xlink:href='#icon-database'></use></svg></label><div class='xr-var-attrs'><dl class='xr-attrs'></dl></div><div class='xr-var-data'><pre>array([0.871, 0.812, 0.844, ..., 1.03 , 1.016, 0.996])</pre></div></li><li class='xr-var-item'><div class='xr-var-name'><span>Temperature</span></div><div class='xr-var-dims'>(time)</div><div class='xr-var-dtype'>float64</div><div class='xr-var-preview xr-preview'>22.2 22.19 22.19 ... 20.73 20.73</div><input id='attrs-6ede32eb-9eae-4ba9-a866-73722bfca19f' class='xr-var-attrs-in' type='checkbox' disabled><label for='attrs-6ede32eb-9eae-4ba9-a866-73722bfca19f' title='Show/Hide attributes'><svg class='icon xr-icon-file-text2'><use xlink:href='#icon-file-text2'></use></svg></label><input id='data-cba4b469-961f-48e9-8a64-5512ecde94cc' class='xr-var-data-in' type='checkbox'><label for='data-cba4b469-961f-48e9-8a64-5512ecde94cc' title='Show/Hide data repr'><svg class='icon xr-icon-database'><use xlink:href='#icon-database'></use></svg></label><div class='xr-var-attrs'><dl class='xr-attrs'></dl></div><div class='xr-var-data'><pre>array([22.2 , 22.19, 22.19, ..., 20.73, 20.73, 20.73])</pre></div></li><li class='xr-var-item'><div class='xr-var-name'><span>Analog input 1</span></div><div class='xr-var-dims'>(time)</div><div class='xr-var-dtype'>int64</div><div class='xr-var-preview xr-preview'>0 0 0 0 0 0 0 0 ... 0 0 0 0 0 0 0 0</div><input id='attrs-0a8892f1-4aa3-483a-9195-c752d4ba595a' class='xr-var-attrs-in' type='checkbox' disabled><label for='attrs-0a8892f1-4aa3-483a-9195-c752d4ba595a' title='Show/Hide attributes'><svg class='icon xr-icon-file-text2'><use xlink:href='#icon-file-text2'></use></svg></label><input id='data-d6c06386-23ad-486f-b6ef-69f324cdfd5f' class='xr-var-data-in' type='checkbox'><label for='data-d6c06386-23ad-486f-b6ef-69f324cdfd5f' title='Show/Hide data repr'><svg class='icon xr-icon-database'><use xlink:href='#icon-database'></use></svg></label><div class='xr-var-attrs'><dl class='xr-attrs'></dl></div><div class='xr-var-data'><pre>array([0, 0, 0, ..., 0, 0, 0], dtype=int64)</pre></div></li><li class='xr-var-item'><div class='xr-var-name'><span>Analog input 2</span></div><div class='xr-var-dims'>(time)</div><div class='xr-var-dtype'>int64</div><div class='xr-var-preview xr-preview'>0 0 0 0 0 0 0 0 ... 0 0 0 0 0 0 0 0</div><input id='attrs-b334da22-ce0e-4e15-800c-0a372a8398b2' class='xr-var-attrs-in' type='checkbox' disabled><label for='attrs-b334da22-ce0e-4e15-800c-0a372a8398b2' title='Show/Hide attributes'><svg class='icon xr-icon-file-text2'><use xlink:href='#icon-file-text2'></use></svg></label><input id='data-abb4a623-0d11-4e85-9ede-297821b5f913' class='xr-var-data-in' type='checkbox'><label for='data-abb4a623-0d11-4e85-9ede-297821b5f913' title='Show/Hide data repr'><svg class='icon xr-icon-database'><use xlink:href='#icon-database'></use></svg></label><div class='xr-var-attrs'><dl class='xr-attrs'></dl></div><div class='xr-var-data'><pre>array([0, 0, 0, ..., 0, 0, 0], dtype=int64)</pre></div></li><li class='xr-var-item'><div class='xr-var-name'><span>V1</span></div><div class='xr-var-dims'>(time, bin)</div><div class='xr-var-dtype'>float64</div><div class='xr-var-preview xr-preview'>0.062 -2.738 ... 1.515 -0.175</div><input id='attrs-6aa26229-c86c-404a-981a-ede8bea1ccc0' class='xr-var-attrs-in' type='checkbox' disabled><label for='attrs-6aa26229-c86c-404a-981a-ede8bea1ccc0' title='Show/Hide attributes'><svg class='icon xr-icon-file-text2'><use xlink:href='#icon-file-text2'></use></svg></label><input id='data-3c546531-f2db-4f54-bf78-1263e6bd4611' class='xr-var-data-in' type='checkbox'><label for='data-3c546531-f2db-4f54-bf78-1263e6bd4611' title='Show/Hide data repr'><svg class='icon xr-icon-database'><use xlink:href='#icon-database'></use></svg></label><div class='xr-var-attrs'><dl class='xr-attrs'></dl></div><div class='xr-var-data'><pre>array([[ 0.062, -2.738, -2.304, ..., -0.589,  0.349,  2.142],\n",
       "       [ 0.089,  2.38 ,  0.114, ...,  1.871,  2.695,  1.644],\n",
       "       [ 0.058,  1.737, -1.083, ...,  2.479,  0.437,  0.109],\n",
       "       ...,\n",
       "       [ 0.021,  1.218, -2.012, ..., -2.066,  1.243, -1.833],\n",
       "       [ 0.136, -0.103, -1.8  , ..., -1.346, -0.986,  0.132],\n",
       "       [ 0.171,  0.905,  0.482, ...,  0.408,  1.515, -0.175]])</pre></div></li><li class='xr-var-item'><div class='xr-var-name'><span>C1</span></div><div class='xr-var-dims'>(time, bin)</div><div class='xr-var-dtype'>float64</div><div class='xr-var-preview xr-preview'>42.0 1.0 0.0 1.0 ... 3.0 1.0 3.0</div><input id='attrs-6ab1ccca-18c1-4b5f-b80d-ef0196598974' class='xr-var-attrs-in' type='checkbox' disabled><label for='attrs-6ab1ccca-18c1-4b5f-b80d-ef0196598974' title='Show/Hide attributes'><svg class='icon xr-icon-file-text2'><use xlink:href='#icon-file-text2'></use></svg></label><input id='data-dce1dc65-ab9a-4988-85fd-0c60fe39518e' class='xr-var-data-in' type='checkbox'><label for='data-dce1dc65-ab9a-4988-85fd-0c60fe39518e' title='Show/Hide data repr'><svg class='icon xr-icon-database'><use xlink:href='#icon-database'></use></svg></label><div class='xr-var-attrs'><dl class='xr-attrs'></dl></div><div class='xr-var-data'><pre>array([[42.,  1.,  0., ...,  1.,  1.,  2.],\n",
       "       [40.,  0.,  1., ...,  0.,  3.,  1.],\n",
       "       [42.,  0.,  0., ...,  0.,  2.,  1.],\n",
       "       ...,\n",
       "       [ 1.,  2.,  2., ...,  1.,  2.,  1.],\n",
       "       [ 4.,  1.,  3., ...,  0.,  2.,  0.],\n",
       "       [ 3.,  0.,  0., ...,  3.,  1.,  3.]])</pre></div></li><li class='xr-var-item'><div class='xr-var-name'><span>V2</span></div><div class='xr-var-dims'>(time, bin)</div><div class='xr-var-dtype'>float64</div><div class='xr-var-preview xr-preview'>0.127 -0.083 -0.627 ... 0.971 1.979</div><input id='attrs-52efaa50-8ae7-4b3a-b98d-7ab493773fc7' class='xr-var-attrs-in' type='checkbox' disabled><label for='attrs-52efaa50-8ae7-4b3a-b98d-7ab493773fc7' title='Show/Hide attributes'><svg class='icon xr-icon-file-text2'><use xlink:href='#icon-file-text2'></use></svg></label><input id='data-1184e10b-2d98-4a70-b7f2-f664aa3535f8' class='xr-var-data-in' type='checkbox'><label for='data-1184e10b-2d98-4a70-b7f2-f664aa3535f8' title='Show/Hide data repr'><svg class='icon xr-icon-database'><use xlink:href='#icon-database'></use></svg></label><div class='xr-var-attrs'><dl class='xr-attrs'></dl></div><div class='xr-var-data'><pre>array([[ 0.127, -0.083, -0.627, ...,  1.065, -0.849,  0.844],\n",
       "       [ 0.121,  1.141, -1.903, ..., -1.139,  2.47 , -1.907],\n",
       "       [ 0.123,  1.86 , -2.504, ...,  1.011, -0.723, -1.019],\n",
       "       ...,\n",
       "       [-0.022,  0.706,  1.564, ..., -0.799, -1.039, -1.202],\n",
       "       [ 0.04 ,  1.883, -2.   , ..., -1.423, -2.064, -1.984],\n",
       "       [ 0.111,  1.634,  1.362, ...,  0.722,  0.971,  1.979]])</pre></div></li><li class='xr-var-item'><div class='xr-var-name'><span>C2</span></div><div class='xr-var-dims'>(time, bin)</div><div class='xr-var-dtype'>float64</div><div class='xr-var-preview xr-preview'>48.0 0.0 1.0 0.0 ... 3.0 1.0 2.0</div><input id='attrs-76817abe-7791-43a9-999e-1fd74e4d60eb' class='xr-var-attrs-in' type='checkbox' disabled><label for='attrs-76817abe-7791-43a9-999e-1fd74e4d60eb' title='Show/Hide attributes'><svg class='icon xr-icon-file-text2'><use xlink:href='#icon-file-text2'></use></svg></label><input id='data-039c9f16-6eb4-4e20-aa4c-026c0f797273' class='xr-var-data-in' type='checkbox'><label for='data-039c9f16-6eb4-4e20-aa4c-026c0f797273' title='Show/Hide data repr'><svg class='icon xr-icon-database'><use xlink:href='#icon-database'></use></svg></label><div class='xr-var-attrs'><dl class='xr-attrs'></dl></div><div class='xr-var-data'><pre>array([[48.,  0.,  1., ...,  1.,  2.,  2.],\n",
       "       [48.,  3.,  0., ...,  0.,  1.,  1.],\n",
       "       [48.,  0.,  0., ...,  2.,  2.,  2.],\n",
       "       ...,\n",
       "       [15.,  0.,  1., ...,  1.,  2.,  0.],\n",
       "       [12.,  0.,  2., ...,  0.,  1.,  1.],\n",
       "       [12.,  2.,  1., ...,  3.,  1.,  2.]])</pre></div></li><li class='xr-var-item'><div class='xr-var-name'><span>V3</span></div><div class='xr-var-dims'>(time, bin)</div><div class='xr-var-dtype'>float64</div><div class='xr-var-preview xr-preview'>0.0 -1.065 -1.168 ... 1.946 0.748</div><input id='attrs-8dca7fb0-b537-496d-9c63-68a62859b56b' class='xr-var-attrs-in' type='checkbox' disabled><label for='attrs-8dca7fb0-b537-496d-9c63-68a62859b56b' title='Show/Hide attributes'><svg class='icon xr-icon-file-text2'><use xlink:href='#icon-file-text2'></use></svg></label><input id='data-d90347c5-71bb-4ab5-99e8-f5c73f985dac' class='xr-var-data-in' type='checkbox'><label for='data-d90347c5-71bb-4ab5-99e8-f5c73f985dac' title='Show/Hide data repr'><svg class='icon xr-icon-database'><use xlink:href='#icon-database'></use></svg></label><div class='xr-var-attrs'><dl class='xr-attrs'></dl></div><div class='xr-var-data'><pre>array([[ 0.   , -1.065, -1.168, ...,  1.618,  0.312, -2.082],\n",
       "       [ 0.02 , -0.968,  2.611, ..., -1.397,  1.822,  0.409],\n",
       "       [-0.013,  0.496,  2.003, ...,  2.23 , -1.12 , -0.968],\n",
       "       ...,\n",
       "       [ 0.422,  1.836,  2.512, ..., -2.112, -1.05 , -1.546],\n",
       "       [-2.065,  0.075,  2.404, ...,  2.029,  2.042,  0.774],\n",
       "       [-0.172,  0.401,  1.565, ..., -0.835,  1.946,  0.748]])</pre></div></li><li class='xr-var-item'><div class='xr-var-name'><span>C3</span></div><div class='xr-var-dims'>(time, bin)</div><div class='xr-var-dtype'>float64</div><div class='xr-var-preview xr-preview'>56.0 2.0 3.0 1.0 ... 2.0 5.0 2.0</div><input id='attrs-57b27c5b-17a8-4237-8a75-6129c8e910f0' class='xr-var-attrs-in' type='checkbox' disabled><label for='attrs-57b27c5b-17a8-4237-8a75-6129c8e910f0' title='Show/Hide attributes'><svg class='icon xr-icon-file-text2'><use xlink:href='#icon-file-text2'></use></svg></label><input id='data-8ba22ec4-2023-4b4f-aa30-d27badeba6db' class='xr-var-data-in' type='checkbox'><label for='data-8ba22ec4-2023-4b4f-aa30-d27badeba6db' title='Show/Hide data repr'><svg class='icon xr-icon-database'><use xlink:href='#icon-database'></use></svg></label><div class='xr-var-attrs'><dl class='xr-attrs'></dl></div><div class='xr-var-data'><pre>array([[56.,  2.,  3., ...,  1.,  3.,  2.],\n",
       "       [57.,  3.,  2., ...,  2.,  3.,  0.],\n",
       "       [57.,  1.,  1., ...,  1.,  3.,  3.],\n",
       "       ...,\n",
       "       [ 1.,  3.,  1., ...,  0.,  1.,  0.],\n",
       "       [ 0.,  0.,  1., ...,  1.,  2.,  1.],\n",
       "       [ 3.,  1.,  0., ...,  2.,  5.,  2.]])</pre></div></li><li class='xr-var-item'><div class='xr-var-name'><span>V4</span></div><div class='xr-var-dims'>(time, bin)</div><div class='xr-var-dtype'>float64</div><div class='xr-var-preview xr-preview'>0.1 2.003 -0.928 ... -2.223 1.973</div><input id='attrs-aafa0b40-d119-462f-8bf7-7f1484c582f3' class='xr-var-attrs-in' type='checkbox' disabled><label for='attrs-aafa0b40-d119-462f-8bf7-7f1484c582f3' title='Show/Hide attributes'><svg class='icon xr-icon-file-text2'><use xlink:href='#icon-file-text2'></use></svg></label><input id='data-c2e2e202-1d42-4d32-9b8a-297d500a4763' class='xr-var-data-in' type='checkbox'><label for='data-c2e2e202-1d42-4d32-9b8a-297d500a4763' title='Show/Hide data repr'><svg class='icon xr-icon-database'><use xlink:href='#icon-database'></use></svg></label><div class='xr-var-attrs'><dl class='xr-attrs'></dl></div><div class='xr-var-data'><pre>array([[ 0.1  ,  2.003, -0.928, ...,  0.723,  1.611, -0.104],\n",
       "       [ 0.098, -0.627, -1.511, ...,  1.433, -0.365,  0.968],\n",
       "       [ 0.106,  0.53 , -2.182, ..., -0.431, -1.555,  0.04 ],\n",
       "       ...,\n",
       "       [-1.817, -1.278,  0.976, ...,  0.296, -2.012,  1.783],\n",
       "       [ 0.934,  1.159,  1.444, ...,  1.155,  1.892, -0.952],\n",
       "       [-0.626, -0.668, -0.948, ..., -0.79 , -2.223,  1.973]])</pre></div></li><li class='xr-var-item'><div class='xr-var-name'><span>C4</span></div><div class='xr-var-dims'>(time, bin)</div><div class='xr-var-dtype'>float64</div><div class='xr-var-preview xr-preview'>47.0 0.0 0.0 0.0 ... 0.0 1.0 2.0</div><input id='attrs-81ba4410-99c5-4a3c-9a84-5c976f9274cc' class='xr-var-attrs-in' type='checkbox' disabled><label for='attrs-81ba4410-99c5-4a3c-9a84-5c976f9274cc' title='Show/Hide attributes'><svg class='icon xr-icon-file-text2'><use xlink:href='#icon-file-text2'></use></svg></label><input id='data-73dcb6b0-f6b0-4c35-bf33-4289ea8f46f7' class='xr-var-data-in' type='checkbox'><label for='data-73dcb6b0-f6b0-4c35-bf33-4289ea8f46f7' title='Show/Hide data repr'><svg class='icon xr-icon-database'><use xlink:href='#icon-database'></use></svg></label><div class='xr-var-attrs'><dl class='xr-attrs'></dl></div><div class='xr-var-data'><pre>array([[47.,  0.,  0., ...,  0.,  0.,  2.],\n",
       "       [47.,  2.,  0., ...,  2.,  1.,  1.],\n",
       "       [48.,  1.,  3., ...,  1.,  0.,  2.],\n",
       "       ...,\n",
       "       [ 0.,  2.,  2., ...,  1.,  4.,  1.],\n",
       "       [ 3.,  0.,  3., ...,  4.,  0.,  2.],\n",
       "       [ 2.,  1.,  1., ...,  0.,  1.,  2.]])</pre></div></li></ul></div></li><li class='xr-section-item'><input id='section-555e8b66-9e62-4b67-ad14-f484ee98b8eb' class='xr-section-summary-in' type='checkbox' disabled ><label for='section-555e8b66-9e62-4b67-ad14-f484ee98b8eb' class='xr-section-summary'  title='Expand/collapse section'>Attributes: <span>(0)</span></label><div class='xr-section-inline-details'></div><div class='xr-section-details'><dl class='xr-attrs'></dl></div></li></ul></div></div>"
      ],
      "text/plain": [
       "<xarray.Dataset>\n",
       "Dimensions:           (bin: 15, time: 183468)\n",
       "Coordinates:\n",
       "  * time              (time) object 1597909692438000000 ... 1600074055438000000\n",
       "Dimensions without coordinates: bin\n",
       "Data variables: (12/27)\n",
       "    Month             (time) int64 8 8 8 8 8 8 8 8 8 8 8 ... 9 9 9 9 9 9 9 9 9 9\n",
       "    Day               (time) int64 20 20 20 20 20 20 20 ... 10 10 10 10 14 14 14\n",
       "    Year              (time) int64 2020 2020 2020 2020 ... 2020 2020 2020 2020\n",
       "    Hour              (time) int64 7 7 7 7 7 7 7 7 7 ... 14 14 14 14 14 14 9 9 9\n",
       "    Minute            (time) int64 48 48 48 48 48 49 49 49 ... 7 7 7 7 7 0 0 0\n",
       "    Second            (time) float64 12.44 22.44 32.44 ... 35.44 45.44 55.44\n",
       "    ...                ...\n",
       "    V2                (time, bin) float64 0.127 -0.083 -0.627 ... 0.971 1.979\n",
       "    C2                (time, bin) float64 48.0 0.0 1.0 0.0 ... 2.0 3.0 1.0 2.0\n",
       "    V3                (time, bin) float64 0.0 -1.065 -1.168 ... 1.946 0.748\n",
       "    C3                (time, bin) float64 56.0 2.0 3.0 1.0 ... 0.0 2.0 5.0 2.0\n",
       "    V4                (time, bin) float64 0.1 2.003 -0.928 ... -2.223 1.973\n",
       "    C4                (time, bin) float64 47.0 0.0 0.0 0.0 ... 3.0 0.0 1.0 2.0"
      ]
     },
     "execution_count": 3,
     "metadata": {},
     "output_type": "execute_result"
    }
   ],
   "source": [
    "#for first set of data\n",
    "adcp_path = 'C://Users/johan/OneDrive/Bureau/PFE-Goteborg/Scripts/Data/SEA045_M33/ADCP/sea045_M33_A0'\n",
    "\n",
    "header = ['Month','Day','Year','Hour','Minute','Second','Burst counter','Ensemble counter','Error code','Status code','Battery voltage','Soundspeed','Heading','Pitch','Roll','Pressure','Temperature','Analog input 1','Analog input 2']\n",
    "ADCP = pd.read_table(adcp_path+'.sen',sep=r\"\\s+\",names=header)\n",
    "ADCP.insert(0,'time',pd.to_datetime(ADCP[['Year', 'Month', 'Day', 'Hour', 'Minute','Second']], utc=True, origin='unix', cache='False'))\n",
    "\n",
    "ADCP.set_index('time', inplace=True)\n",
    "\n",
    "ADCP = ADCP.to_xarray()\n",
    "\n",
    "for beam in ['1','2','3','4']:\n",
    "    ADCP['V'+beam] = (\n",
    "                   ['time','bin'],\n",
    "                   pd.read_csv(adcp_path+'.v'+beam, sep=r\"\\s+\", header=None).iloc[:,2:]\n",
    "                  )\n",
    "    ADCP['C'+beam] = (\n",
    "                   ['time','bin'],\n",
    "                   pd.read_csv(adcp_path+'.c'+beam, sep=r\"\\s+\", header=None).iloc[:,2:]\n",
    "                  )\n",
    "\n",
    "ADCP"
   ]
  },
  {
   "cell_type": "code",
   "execution_count": 4,
   "id": "c001fbe2",
   "metadata": {},
   "outputs": [
    {
     "name": "stdout",
     "output_type": "stream",
     "text": [
      "<xarray.DataArray 'time' (time: 183468)>\n",
      "array([1597909692438000000, 1597909702438000000, 1597909712438000000, ...,\n",
      "       1600074035438000000, 1600074045438000000, 1600074055438000000],\n",
      "      dtype=object)\n",
      "Coordinates:\n",
      "  * time     (time) object 1597909692438000000 ... 1600074055438000000\n"
     ]
    }
   ],
   "source": [
    "print(ADCP.V1.time)"
   ]
  },
  {
   "cell_type": "markdown",
   "id": "0bf257d0-dd66-4e11-90dc-f0c98f540048",
   "metadata": {},
   "source": [
    "# CALCULATE ADCP BIN DEPTH"
   ]
  },
  {
   "cell_type": "code",
   "execution_count": 5,
   "id": "149024b2-303d-4d8d-980b-9cadc57f7a6e",
   "metadata": {},
   "outputs": [],
   "source": [
    "def getADCPBinDepth(ADCP, bin_size, blanking_distance,direction='down',lat=55):\n",
    "    # Retuns a new coordinate within the ADCP matrix of size ntime x nbin containing ADCP bin depths\n",
    "    if top_mounted:\n",
    "        direction = 1\n",
    "    else:\n",
    "        direction = -1\n",
    "\n",
    "    bin_distance = blanking_distance + np.arange(len(ADCP.bin))*bin_size + 0.5*bin_size\n",
    "    \n",
    "    alpha = np.arccos(\n",
    "                np.cos(np.deg2rad(22.5 + ADCP['Pitch'])) * # THIS IS WRONG\n",
    "                np.cos(np.deg2rad(ADCP['Roll'])) \n",
    "            )\n",
    "    adcp_depth = gsw.z_from_p(ADCP['Pressure'],lat)\n",
    "\n",
    "    bin_depth = np.tile(adcp_depth, (len(ADCP.bin), 1)).T \\\n",
    "                - direction \\\n",
    "                * np.tile(bin_distance, (len(ADCP.time), 1)) \\\n",
    "                * np.tile(np.cos(alpha), (len(ADCP.bin), 1)).T \\\n",
    "\n",
    "    return ADCP.assign_coords({'bin_depth':(['time','bin'], bin_depth)})\n",
    "\n",
    "ADCP = getADCPBinDepth(ADCP,2,0.2,55)"
   ]
  },
  {
   "cell_type": "markdown",
   "id": "0b1df1e5-9fb2-4944-96a7-991d1e6b4bc2",
   "metadata": {},
   "source": [
    "# SOUNDSPEED CORRECTION"
   ]
  },
  {
   "cell_type": "code",
   "execution_count": 6,
   "id": "9aa7a126-5240-4768-a2e0-8f1bfddbcf7e",
   "metadata": {},
   "outputs": [],
   "source": [
    "# Not implemented yet"
   ]
  },
  {
   "cell_type": "markdown",
   "id": "fab692a8-8db0-4f0e-b0b4-5f80085df862",
   "metadata": {},
   "source": [
    "# 3 BEAM PITCH-DEPENDENT SOLUTION TO XYZ AND ENU CALCULATION"
   ]
  },
  {
   "cell_type": "code",
   "execution_count": 7,
   "id": "86d81fa0-c86a-44ee-b704-15d49b1f12b6",
   "metadata": {},
   "outputs": [
    {
     "data": {
      "application/vnd.jupyter.widget-view+json": {
       "model_id": "e486e84d2ea04d82b912f4a44ed9794b",
       "version_major": 2,
       "version_minor": 0
      },
      "text/plain": [
       "Canvas(toolbar=Toolbar(toolitems=[('Home', 'Reset original view', 'home', 'home'), ('Back', 'Back to previous …"
      ]
     },
     "metadata": {},
     "output_type": "display_data"
    },
    {
     "name": "stdout",
     "output_type": "stream",
     "text": [
      "Assuming ADCP is top mounted\n"
     ]
    }
   ],
   "source": [
    "def calcXYZfrom3beam():\n",
    "    def sin(x):\n",
    "        return np.sin(np.deg2rad(x))\n",
    "    def cos(x):\n",
    "        return np.cos(np.deg2rad(x))\n",
    "\n",
    "    a = 47.5 # Beam 1 and 3 angle from Z\n",
    "    b = 25 # Beam 2 and 4 angle from Z\n",
    "\n",
    "    xyz2beam = np.array([\n",
    "        [sin(a),0,cos(a)],\n",
    "        [0,-sin(b),cos(b)],\n",
    "        [0,sin(b),cos(b)]\n",
    "    ])\n",
    "\n",
    "    beam2xyz = np.linalg.inv(xyz2beam)\n",
    "\n",
    "    V_fore = beam2xyz @ np.array([\n",
    "        ADCP['V1'].values.flatten(),\n",
    "        ADCP['V2'].values.flatten(),\n",
    "        ADCP['V4'].values.flatten()\n",
    "        ])\n",
    "    V_aft = beam2xyz @ np.array([\n",
    "        ADCP['V3'].values.flatten(),\n",
    "        ADCP['V2'].values.flatten(),\n",
    "        ADCP['V4'].values.flatten()\n",
    "        ])\n",
    "\n",
    "    if rmsd(V_aft[1:,:]-V_fore[1:,:]) != 0:\n",
    "        print('Something is wrong - abort and investigate...')\n",
    "\n",
    "    X = np.reshape( V_fore[0,:] , (-1,15) )\n",
    "    X2 = np.reshape( V_aft[0,:] , (-1,15) )\n",
    "    \n",
    "    plt.close('all')\n",
    "    _ = plt.hist(X.flatten(),100,color='r',alpha=0.3)\n",
    "    _ = plt.hist(-X2.flatten(),100,color='b',alpha=0.3)\n",
    "    \n",
    "    use_aft_on_climb = ADCP['Pitch'] > 0\n",
    "    \n",
    "    if top_mounted == True:\n",
    "        print('Assuming ADCP is top mounted')\n",
    "        X[~use_aft_on_climb,:] = -X2[~use_aft_on_climb,:]\n",
    "        V_aft[1,:] = -V_aft[1,:]\n",
    "    else:\n",
    "        print('Assuming ADCP is bottom mounted')\n",
    "        X[use_aft_on_climb,:] = -X2[use_aft_on_climb,:]\n",
    "    \n",
    "    \n",
    "    _ = plt.hist(X.flatten(),100,color='g',alpha=0.3)\n",
    "    \n",
    "    ADCP['X'] = (['time','bin'], X )\n",
    "    ADCP['Y'] = (['time','bin'], np.reshape( V_aft[1,:] , (-1,15) ) )\n",
    "    ADCP['Z'] = (['time','bin'], np.reshape( V_aft[2,:] , (-1,15) ) )\n",
    "    \n",
    "    \n",
    "calcXYZfrom3beam()\n",
    "#gc.collect()"
   ]
  },
  {
   "cell_type": "code",
   "execution_count": 8,
   "id": "29015fe2-b303-4fe2-9265-c05a14727369",
   "metadata": {},
   "outputs": [
    {
     "name": "stderr",
     "output_type": "stream",
     "text": [
      "100%|███████████████████████████████████████████████████████████████████████| 183468/183468 [00:15<00:00, 11583.62it/s]\n"
     ]
    },
    {
     "data": {
      "text/plain": [
       "40"
      ]
     },
     "execution_count": 8,
     "metadata": {},
     "output_type": "execute_result"
    }
   ],
   "source": [
    "def calcENUfromXYZ():\n",
    "    def M_xyz2enu(heading,pitch,roll):\n",
    "        hh = np.pi*(heading-90)/180\n",
    "        pp = np.pi*pitch/180\n",
    "        rr = np.pi*roll/180\n",
    "        \n",
    "        _H = np.array([\n",
    "            [np.cos(hh),np.sin(hh),0], \n",
    "            [-np.sin(hh),np.cos(hh),0], \n",
    "            [0,0,1]\n",
    "        ])\n",
    "        _P = np.array([\n",
    "            [np.cos(pp), -np.sin(pp)*np.sin(rr), -np.cos(rr)*np.sin(pp)] ,\n",
    "            [0, np.cos(rr), -np.sin(rr)] , \n",
    "            [ np.sin(pp), np.sin(rr)*np.cos(pp), np.cos(pp)*np.cos(rr)]\n",
    "        ])\n",
    "        \n",
    "        _R = _H@_P\n",
    "        return _R\n",
    "\n",
    "    H = ADCP['Heading'].values\n",
    "    P = ADCP['Pitch'].values\n",
    "    R = ADCP['Roll'].values\n",
    "\n",
    "    E = ADCP['X'].values.copy()\n",
    "    N = ADCP['Y'].values.copy()\n",
    "    U = ADCP['Z'].values.copy()\n",
    "\n",
    "    r,c = np.shape(E)\n",
    "\n",
    "    for i in tqdm(range(r)):\n",
    "        XYZ2ENU = M_xyz2enu(H[i],P[i],R[i])\n",
    "        for j in range(c):\n",
    "            E[i,j], N[i,j], U[i,j] = XYZ2ENU @ [E[i,j], N[i,j], U[i,j]]\n",
    "\n",
    "    ADCP['E'] = (['time','bin'], E )\n",
    "    ADCP['N'] = (['time','bin'], N )\n",
    "    ADCP['U'] = (['time','bin'], U )\n",
    "\n",
    "calcENUfromXYZ()\n",
    "gc.collect()"
   ]
  },
  {
   "cell_type": "code",
   "execution_count": 9,
   "id": "cfa5a22e-7d1d-459c-9744-f9e542533a06",
   "metadata": {},
   "outputs": [
    {
     "data": {
      "application/vnd.jupyter.widget-view+json": {
       "model_id": "79f78fbcfee641ef89e64deb3c992fc7",
       "version_major": 2,
       "version_minor": 0
      },
      "text/plain": [
       "Canvas(toolbar=Toolbar(toolitems=[('Home', 'Reset original view', 'home', 'home'), ('Back', 'Back to previous …"
      ]
     },
     "metadata": {},
     "output_type": "display_data"
    },
    {
     "data": {
      "text/plain": [
       "Text(0.5, 1.0, 'Glider climbing so expect U negative')"
      ]
     },
     "execution_count": 9,
     "metadata": {},
     "output_type": "execute_result"
    }
   ],
   "source": [
    "plt.figure()\n",
    "\n",
    "PD = ADCP['Pitch'] < 0\n",
    "PU = ADCP['Pitch'] > 0\n",
    "\n",
    "plt.subplot(511)\n",
    "_ = plt.hist(ADCP.isel(bin=0)['X'][PD].values,np.linspace(-1,1,100),color='r')\n",
    "_ = plt.hist(ADCP.isel(bin=0)['X'][PU].values,np.linspace(-1,1,100),color='b')\n",
    "plt.title('Glider moving forward so expect X negative')\n",
    "\n",
    "plt.subplot(513)\n",
    "_ = plt.hist(ADCP.isel(bin=0)['U'][PD].values,np.linspace(-1,1,100),color='r')\n",
    "plt.title('Glider diving so expect U positive')\n",
    "\n",
    "plt.subplot(515)\n",
    "_ = plt.hist(ADCP.isel(bin=0)['U'][PU].values,np.linspace(-1,1,100),color='b')\n",
    "plt.title('Glider climbing so expect U negative')"
   ]
  },
  {
   "cell_type": "code",
   "execution_count": 39,
   "id": "e5189c05-8147-4853-87da-03996b7b9c08",
   "metadata": {},
   "outputs": [
    {
     "data": {
      "application/vnd.jupyter.widget-view+json": {
       "model_id": "ac8f903416d44f118bc21d68834722e9",
       "version_major": 2,
       "version_minor": 0
      },
      "text/plain": [
       "Canvas(toolbar=Toolbar(toolitems=[('Home', 'Reset original view', 'home', 'home'), ('Back', 'Back to previous …"
      ]
     },
     "metadata": {},
     "output_type": "display_data"
    },
    {
     "name": "stdout",
     "output_type": "stream",
     "text": [
      "[1.59846038e+09]\n",
      "[1.59847874e+18]\n",
      "0.22606848847737962\n",
      "18360000000000.0\n"
     ]
    }
   ],
   "source": [
    "def rmsd(x):\n",
    "    return np.sqrt(np.nanmean(x**2))\n",
    "def smooth(x,N):\n",
    "    return np.convolve(x, np.ones(N)/N, mode='same')\n",
    "\n",
    "%matplotlib widget\n",
    "plt.close('all')\n",
    "\n",
    "spd_xyz = np.sqrt(ADCP.isel(bin=0)['X']**2 + ADCP.isel(bin=0)['Y']**2 + ADCP.isel(bin=0)['Z']**2)\n",
    "\n",
    "fig = plt.figure()\n",
    "ax = fig.add_subplot(1, 1, 1)\n",
    "plt.plot(data.data['Timestamp'].values.astype('float'), data.data.speed,'--k', alpha=0.5,label=\"steady flight model\")\n",
    "plt.plot(ADCP.time.values.astype('float'),smooth(spd_xyz,5), alpha=0.7, color='g',label=\"ADCP\")\n",
    "plt.title(\"speed of glider\")\n",
    "plt.xlabel(\"t [s]\")\n",
    "plt.ylabel(\"v [m/s]\")\n",
    "plt.legend()\n",
    "\n",
    "t = np.nanpercentile(data.data['Timestamp'].values.astype('float'),[0,100])\n",
    "\n",
    "def update(x=0):\n",
    "    ax.set_xlim([t[0] + x*step , t[0] + x*step + step])\n",
    "    fig.canvas.draw_idle()\n",
    "\n",
    "ax.set_ylim([0,1.2])\n",
    "step = np.diff(t)/100\n",
    "update(30)\n",
    "\n",
    "\n",
    "print((t[0] + 30*step)/10**9 )\n",
    "print(t[0] + 30*step + step)\n",
    "print(np.interp(1.59846038e+18, data.data['Timestamp'].values.astype('float'),  data.data.speed))\n",
    "print(1.59847874e+18-1.59846038e+18)\n",
    "\n",
    "plt.show()"
   ]
  },
  {
   "cell_type": "markdown",
   "id": "105b4656",
   "metadata": {},
   "source": [
    "# Searching for errors"
   ]
  },
  {
   "cell_type": "markdown",
   "id": "84c0a6e8",
   "metadata": {},
   "source": [
    "#### Validity of steady state model (ACCELERATION criteria)"
   ]
  },
  {
   "cell_type": "code",
   "execution_count": 21,
   "id": "0e1482e3",
   "metadata": {},
   "outputs": [
    {
     "name": "stdout",
     "output_type": "stream",
     "text": [
      "0.004851022078631626\n"
     ]
    },
    {
     "data": {
      "application/vnd.jupyter.widget-view+json": {
       "model_id": "e992576c39244c51af93b2d9a5565035",
       "version_major": 2,
       "version_minor": 0
      },
      "text/plain": [
       "Canvas(toolbar=Toolbar(toolitems=[('Home', 'Reset original view', 'home', 'home'), ('Back', 'Back to previous …"
      ]
     },
     "metadata": {},
     "output_type": "display_data"
    }
   ],
   "source": [
    "%matplotlib widget\n",
    "plt.close('all')\n",
    "\n",
    "\n",
    "a=np.diff(data.data.speed)\n",
    "L=2.7 #length of glider\n",
    "V=np.nanmean(data.data.speed) #Average speed of drone\n",
    "v=np.nan_to_num(data.data.speed)\n",
    "a_max=V*V/(10*L)\n",
    "print(a_max)\n",
    "\n",
    "_u = np.remainder(data.data.profileNum,2) == 0\n",
    "_d = np.remainder(data.data.profileNum,2) == 1\n",
    "_u=_u[0:len(a)]\n",
    "_d=_d[0:len(a)]\n",
    "\n",
    "T=data.data['Timestamp'].values.astype('float')[0:len(a)]\n",
    "\n",
    "fig = plt.figure()\n",
    "ax = fig.add_subplot(1, 1, 1)\n",
    "plt.plot([ADCP.time.values.astype('float')[0],ADCP.time.values.astype('float')[-1]],[a_max,a_max], alpha=1, color='g',label=\"domain of validity\")\n",
    "plt.plot([ADCP.time.values.astype('float')[0],ADCP.time.values.astype('float')[-1]],[-a_max,-a_max], alpha=1, color='g')\n",
    "#plt.plot(T[_d],a[_d],alpha=0.9,color='r',label=\"steady flight model (downcast)\")\n",
    "#plt.plot(T[_u],a[_u],alpha=0.9,color='b',label=\"steady flight model (upcast)\")\n",
    "plt.scatter(T[_d],a[_d],1,'r', alpha=1,label='downcast')\n",
    "plt.scatter(T[_u],a[_u],1,'b', alpha=1,label='upcast')\n",
    "plt.grid()\n",
    "plt.title(\"Acceleration of glider\")\n",
    "plt.xlabel(\"t [s]\")\n",
    "plt.ylabel(\"a [m2/s]\")\n",
    "plt.legend()\n",
    "\n",
    "t = np.nanpercentile(data.data['Timestamp'].values.astype('float'),[0,100])\n",
    "\n",
    "def update(x=0):\n",
    "    ax.set_xlim([t[0] + x*step , t[0] + x*step + step])\n",
    "    fig.canvas.draw_idle()\n",
    "\n",
    "ax.set_ylim([-0.02,0.02])\n",
    "step = np.diff(t)/100\n",
    "\n",
    "update(30)\n",
    "plt.show()"
   ]
  },
  {
   "cell_type": "code",
   "execution_count": 109,
   "id": "39088a00",
   "metadata": {},
   "outputs": [
    {
     "data": {
      "application/vnd.jupyter.widget-view+json": {
       "model_id": "720c8c6556ad43cba5e31463e0d10f20",
       "version_major": 2,
       "version_minor": 0
      },
      "text/plain": [
       "Canvas(toolbar=Toolbar(toolitems=[('Home', 'Reset original view', 'home', 'home'), ('Back', 'Back to previous …"
      ]
     },
     "metadata": {},
     "output_type": "display_data"
    }
   ],
   "source": [
    "#Acceleration criteria validity\n",
    "validity = np.empty(len(a)+1)\n",
    "for i in range(len(a)):\n",
    "    validity[i] = np.sign(a[i]-a_max)\n",
    "\n",
    "validity_distance = np.empty(len(a)+1)\n",
    "for i in range(len(a)):\n",
    "    validity_distance[i] = np.abs(a[i])\n",
    "    \n",
    "#Influence of drone rotation in ADCP measurement\n",
    "dPitch_dt=np.diff(Pitch)\n",
    "omega = np.empty(len(dPitch_dt)+1)\n",
    "for i in range(len(dPitch_dt)):\n",
    "    omega[i] = dPitch_dt[i]\n",
    "\n",
    "#Figure plotting\n",
    "fig = plt.figure()\n",
    "ax = fig.add_subplot(1, 1, 1)\n",
    "plt.scatter(time, spd_err, 1, c=omega, cmap='coolwarm', alpha=1)\n",
    "cbar = plt.colorbar()\n",
    "cbar.set_label('omega [rad/s]')\n",
    "plt.clim([-0.05,0.05])\n",
    "plt.grid()\n",
    "plt.title(\"speed error\")\n",
    "plt.xlabel(\"t [s]\")\n",
    "plt.ylabel(\"v [m/s]\")\n",
    "\n",
    "t = np.nanpercentile(time,[0,100])\n",
    "def update(x=0):\n",
    "    ax.set_xlim([t[0] + x*step , t[0] + x*step + step])\n",
    "    fig.canvas.draw_idle()\n",
    "ax.set_ylim([-0.3,0.7])\n",
    "step = np.diff(t)/100\n",
    "\n",
    "update(30)\n",
    "\n",
    "plt.show()"
   ]
  },
  {
   "cell_type": "markdown",
   "id": "d0396405",
   "metadata": {},
   "source": [
    "#### Compute SPEED ERROR (Steady state VS ADCP)"
   ]
  },
  {
   "cell_type": "code",
   "execution_count": 102,
   "id": "696fc5e8",
   "metadata": {},
   "outputs": [],
   "source": [
    "def rmsd(x):\n",
    "    return np.sqrt(np.nanmean(x**2))\n",
    "def smooth(x,N):\n",
    "    return np.convolve(x, np.ones(N)/N, mode='same')\n",
    "def fillGaps(x,y):\n",
    "    f = interp1d(x[np.isfinite(x+y)],y[np.isfinite(x+y)], bounds_error=False, fill_value=np.NaN)\n",
    "    return(f(x))\n",
    "\n",
    "\n",
    "\n",
    "_u = np.remainder(data.data.profileNum,2) == 0\n",
    "_d = np.remainder(data.data.profileNum,2) == 1\n",
    "\n",
    "time=sx.date2float(data.data['Timestamp'])\n",
    "aoa=fillGaps(time, data.data.alpha)\n",
    "speed=fillGaps(time, data.data.speed)\n",
    "Temperature=fillGaps(time, data.data.Temperature)\n",
    "Depth=fillGaps(time, data.data.Depth)\n",
    "pressure=fillGaps(time, data.data.pressure)\n",
    "salinity=fillGaps(time, data.data.salinity)\n",
    "Pitch=fillGaps(time, np.deg2rad(data.data.Pitch))\n",
    "Ballast=fillGaps(time, data.data.BallastPos/1000000)\n",
    "lon=fillGaps(time, data.data.lon)\n",
    "lat=fillGaps(time, data.data.lat)\n",
    "\n",
    "\n",
    "horizontal_speed = speed*np.cos(aoa+Pitch)\n",
    "dZdt =fillGaps(time, np.gradient(Depth,time))\n",
    "LEGATO_Z_spd=fillGaps(time, np.gradient(data.data.LEGATO_PRESSURE))\n",
    "\n",
    "\n",
    "SA = gsw.SA_from_SP(salinity, pressure, lon, lat)\n",
    "CT = gsw.CT_from_t(SA, Temperature, pressure)\n",
    "rho = gsw.rho(SA, CT, pressure)\n",
    "\n",
    "\n",
    "# Interpolation of ADCP data in order to match with drone data (data.data) --------------------------------------\n",
    "smooth_coeff=50\n",
    "spd_xyz = np.sqrt(ADCP.isel(bin=0)['X']**2 + ADCP.isel(bin=0)['Y']**2 + ADCP.isel(bin=0)['Z']**2)\n",
    "ADCP_Time=ADCP.time.values.astype('float')/(10**9)\n",
    "ADCP_speed=np.interp(time, ADCP_Time, spd_xyz)\n",
    "\n",
    "spd_xz = np.sqrt(ADCP.isel(bin=0)['X']**2 + ADCP.isel(bin=0)['Z']**2)\n",
    "ADCP_xz_spd=np.interp(time, ADCP_Time, spd_xz)\n",
    "\n",
    "ADCP_vert_spd = np.interp(time, ADCP_Time, ADCP.isel(bin=0)['U'])\n",
    "\n",
    "ADCP_x_spd=np.interp(time, ADCP_Time, ADCP.isel(bin=0)['X'])\n",
    "ADCP_y_spd=np.interp(time, ADCP_Time, ADCP.isel(bin=0)['Y'])\n",
    "ADCP_z_spd=np.interp(time, ADCP_Time, ADCP.isel(bin=0)['Z'])\n",
    "ADCP_pitch=np.interp(time, ADCP_Time, ADCP.isel(bin=0)['Pitch'])\n",
    "ADCP_hrz_spd =  (ADCP_x_spd)*np.cos(np.deg2rad(ADCP_pitch)) -(ADCP_z_spd)*np.sin(np.deg2rad(ADCP_pitch))\n",
    "\n",
    "# Definition of error function\n",
    "spd_err=smooth(ADCP_xz_spd,smooth_coeff)-speed\n"
   ]
  },
  {
   "cell_type": "markdown",
   "id": "b421a86a",
   "metadata": {},
   "source": [
    "#### Plotting influence of different parameters (Temperature, Pressure, Salinity, Pitch, Alpha, ...)"
   ]
  },
  {
   "cell_type": "code",
   "execution_count": 38,
   "id": "802638b6",
   "metadata": {},
   "outputs": [
    {
     "data": {
      "application/vnd.jupyter.widget-view+json": {
       "model_id": "e4063fadbb454c939349451ab31fab1b",
       "version_major": 2,
       "version_minor": 0
      },
      "text/plain": [
       "Canvas(toolbar=Toolbar(toolitems=[('Home', 'Reset original view', 'home', 'home'), ('Back', 'Back to previous …"
      ]
     },
     "metadata": {},
     "output_type": "display_data"
    }
   ],
   "source": [
    "#Figure plotting -----------------------------------------------------------------------------------\n",
    "%matplotlib widget\n",
    "plt.close('all')\n",
    "fig = plt.figure()\n",
    "ax = fig.add_subplot(1, 1, 1)\n",
    "#plt.scatter(data.data['Timestamp'].values.astype('float'),spd_err, 1,c=data.data.Temperature,cmap='coolwarm', alpha=1)\n",
    "#plt.scatter(time[_u],spd_err[_u], 1,'b', alpha=1,label='upcast')\n",
    "plt.scatter(time,spd_err, 1,c=Pitch,cmap='coolwarm', alpha=1)\n",
    "cbar = plt.colorbar()\n",
    "cbar.set_label('Pitch [rad]')\n",
    "plt.clim([-0.2,0.2])\n",
    "plt.grid()\n",
    "plt.title(\"speed error\")\n",
    "plt.xlabel(\"t [s]\")\n",
    "plt.ylabel(\"speed error [m/s]\")\n",
    "\n",
    "t = np.nanpercentile(time,[0,100])\n",
    "def update(x=0):\n",
    "    ax.set_xlim([t[0] + x*step , t[0] + x*step + step])\n",
    "    fig.canvas.draw_idle()\n",
    "ax.set_ylim([-0.3,0.7])\n",
    "step = np.diff(t)/100\n",
    "update(30)\n",
    "\n",
    "plt.show()"
   ]
  },
  {
   "cell_type": "code",
   "execution_count": 14,
   "id": "8a976719",
   "metadata": {},
   "outputs": [
    {
     "data": {
      "application/vnd.jupyter.widget-view+json": {
       "model_id": "f78e52807be44b56849e04328a26ed17",
       "version_major": 2,
       "version_minor": 0
      },
      "text/plain": [
       "Canvas(toolbar=Toolbar(toolitems=[('Home', 'Reset original view', 'home', 'home'), ('Back', 'Back to previous …"
      ]
     },
     "metadata": {},
     "output_type": "display_data"
    }
   ],
   "source": [
    "#Acceleration criteria validity\n",
    "validity = np.empty(len(a)+1)\n",
    "for i in range(len(a)):\n",
    "    validity[i] = np.sign(a[i]-a_max)\n",
    "\n",
    "validity_distance = np.empty(len(a)+1)\n",
    "for i in range(len(a)):\n",
    "    validity_distance[i] = np.abs(a[i])\n",
    "    \n",
    "#Influence of drone rotation in ADCP measurement\n",
    "dPitch_dt=np.diff(Pitch)\n",
    "omega = np.empty(len(dPitch_dt)+1)\n",
    "for i in range(len(dPitch_dt)):\n",
    "    omega[i] = np.abs(dPitch_dt[i])\n",
    "\n",
    "#Figure plotting\n",
    "fig = plt.figure()\n",
    "ax = fig.add_subplot(1, 1, 1)\n",
    "plt.scatter(time, spd_err, 1, c=omega, cmap='coolwarm', alpha=1)\n",
    "cbar = plt.colorbar()\n",
    "cbar.set_label('omega [rad/s]')\n",
    "plt.clim([-0.01,0.05])\n",
    "plt.grid()\n",
    "plt.title(\"speed error\")\n",
    "plt.xlabel(\"t [s]\")\n",
    "plt.ylabel(\"v [m/s]\")\n",
    "\n",
    "t = np.nanpercentile(time,[0,100])\n",
    "def update(x=0):\n",
    "    ax.set_xlim([t[0] + x*step , t[0] + x*step + step])\n",
    "    fig.canvas.draw_idle()\n",
    "ax.set_ylim([-0.3,0.7])\n",
    "step = np.diff(t)/100\n",
    "\n",
    "update(30)\n",
    "\n",
    "plt.show()"
   ]
  },
  {
   "cell_type": "markdown",
   "id": "3cafdae6",
   "metadata": {},
   "source": [
    "# Sensor Comparison"
   ]
  },
  {
   "cell_type": "markdown",
   "id": "f9d324db",
   "metadata": {},
   "source": [
    "#### Vertical Speed"
   ]
  },
  {
   "cell_type": "code",
   "execution_count": 47,
   "id": "99d59f49",
   "metadata": {},
   "outputs": [
    {
     "data": {
      "application/vnd.jupyter.widget-view+json": {
       "model_id": "7a325427e5094fb98b681d90c3e21eb2",
       "version_major": 2,
       "version_minor": 0
      },
      "text/plain": [
       "Canvas(toolbar=Toolbar(toolitems=[('Home', 'Reset original view', 'home', 'home'), ('Back', 'Back to previous …"
      ]
     },
     "metadata": {},
     "output_type": "display_data"
    }
   ],
   "source": [
    "#Figure plotting -----------------------------------------------------------------------------------\n",
    "%matplotlib widget\n",
    "plt.close('all')\n",
    "fig = plt.figure()\n",
    "ax = fig.add_subplot(1, 1, 1)\n",
    "plt.scatter(time,smooth(ADCP_vert_spd,smooth_coeff), 1,'r', alpha=1, label='ADCP UP speed')\n",
    "plt.scatter(time,dZdt, 1,'b', alpha=1, label='Pressure sensor UP speed')\n",
    "plt.scatter(time,smooth(LEGATO_Z_spd,smooth_coeff), 1,'k', alpha=1, label='LEGATO sensor UP speed')\n",
    "plt.grid()\n",
    "plt.legend()\n",
    "plt.title(\"vertical speed\")\n",
    "plt.xlabel(\"t [s]\")\n",
    "plt.ylabel(\"speed error [m/s]\")\n",
    "\n",
    "t = np.nanpercentile(time,[0,100])\n",
    "def update(x=0):\n",
    "    ax.set_xlim([t[0] + x*step , t[0] + x*step + step])\n",
    "    fig.canvas.draw_idle()\n",
    "ax.set_ylim([-0.4,0.6])\n",
    "step = np.diff(t)/100\n",
    "update(30)\n",
    "\n",
    "plt.show()"
   ]
  },
  {
   "cell_type": "markdown",
   "id": "a0842678",
   "metadata": {},
   "source": [
    "#### Horizontal Speed"
   ]
  },
  {
   "cell_type": "code",
   "execution_count": 104,
   "id": "51dd2b4f",
   "metadata": {},
   "outputs": [],
   "source": [
    "#       TO DO !!! (insert bottom tracking data here)"
   ]
  },
  {
   "cell_type": "markdown",
   "id": "8f4d8c08",
   "metadata": {},
   "source": [
    "# Dynamic flight model"
   ]
  },
  {
   "cell_type": "code",
   "execution_count": 16,
   "id": "e0f422da",
   "metadata": {},
   "outputs": [
    {
     "name": "stderr",
     "output_type": "stream",
     "text": [
      "  0%|▎                                                                           | 281/59999 [00:00<00:44, 1339.42it/s]"
     ]
    },
    {
     "name": "stdout",
     "output_type": "stream",
     "text": [
      "60000\n"
     ]
    },
    {
     "name": "stderr",
     "output_type": "stream",
     "text": [
      "100%|██████████████████████████████████████████████████████████████████████████| 59999/59999 [00:45<00:00, 1327.74it/s]\n"
     ]
    }
   ],
   "source": [
    "import dynamic_model as DM\n",
    "importlib.reload(DM)\n",
    "\n",
    "flight_dyn = DM.DynamicFlightModel(\n",
    "               data.data.Timestamp, \n",
    "               data.data.salinity.interpolate('index').values, \n",
    "               data.data.temperature.interpolate('index').values, \n",
    "               data.data.pressure.interpolate('index').values, \n",
    "               data.data.lon.interpolate('index').values, \n",
    "               data.data.lat.interpolate('index').values, \n",
    "               data.data.BallastPos.interpolate('index').values, \n",
    "               data.data.Pitch.interpolate('index').values, \n",
    "               data.data.profileNum.interpolate('nearest').values,\n",
    "               data.data.NAV_RESOURCE.interpolate('nearest').values)\n",
    "\n",
    "flight_dyn.set_initial_conditions(0,0)\n",
    "\n",
    "print(flight_dyn.t.size)\n",
    "\n",
    "flight_dyn.solveRK4()"
   ]
  },
  {
   "cell_type": "markdown",
   "id": "61e69766",
   "metadata": {},
   "source": [
    "#### Comparison of  TOTAL SPEED (Dyanmic VS Static VS ADCP)"
   ]
  },
  {
   "cell_type": "code",
   "execution_count": 90,
   "id": "09b4ab54",
   "metadata": {},
   "outputs": [
    {
     "data": {
      "application/vnd.jupyter.widget-view+json": {
       "model_id": "f0b5ee85a0764b1cb7b1e90393a34f30",
       "version_major": 2,
       "version_minor": 0
      },
      "text/plain": [
       "Canvas(toolbar=Toolbar(toolitems=[('Home', 'Reset original view', 'home', 'home'), ('Back', 'Back to previous …"
      ]
     },
     "metadata": {},
     "output_type": "display_data"
    }
   ],
   "source": [
    "#print(flight_dyn.w[0:300])\n",
    "plt.close('all')\n",
    "\n",
    "pitch=np.interp(flight_dyn.t, flight_dyn.time, flight_dyn.pitch)\n",
    "dZdt=np.interp(flight_dyn.t, flight_dyn.time, flight_dyn.dZdt)\n",
    "rho=np.interp(flight_dyn.t, flight_dyn.time, flight_dyn.rho)\n",
    "pressure=np.interp(flight_dyn.t, flight_dyn.time, flight_dyn.pressure)\n",
    "ballast=np.interp(flight_dyn.t, flight_dyn.time, flight_dyn.ballast)\n",
    "g=np.interp(flight_dyn.t, flight_dyn.time, flight_dyn.g)\n",
    "temperature=np.interp(flight_dyn.t, flight_dyn.time, flight_dyn.temperature)\n",
    "alpha=np.arctan2(flight_dyn.w,flight_dyn.u)-pitch\n",
    "\n",
    "Fb, Fg = flight_dyn.compute_FB_and_Fg(g, rho, pressure, ballast, temperature)\n",
    "L, D=flight_dyn.compute_lift_and_drag(pitch, rho, flight_dyn.u, flight_dyn.w)\n",
    "\n",
    "\n",
    "\n",
    "Fx=np.sin(pitch + alpha)*L-np.cos(pitch + alpha)*D\n",
    "Fy=Fb - Fg -np.cos(pitch + alpha)*L -np.sin(pitch + alpha)*D\n",
    "\n",
    "\n",
    "\n",
    "fig = plt.figure()\n",
    "ax = fig.add_subplot(1, 1, 1)\n",
    "\n",
    "#Dynamic model Speed\n",
    "#plt.plot(flight_dyn.t, flight_dyn.u, 'r', label=\"u dyn [m/s]\")\n",
    "#plt.plot(flight_dyn.t, flight_dyn.w, 'b', label=\"w dyn [m/s]\")\n",
    "plt.plot(flight_dyn.t, np.sqrt(flight_dyn.w**2+flight_dyn.u**2), 'r', label=\"U dyn [m/s]\")\n",
    "\n",
    "#Dynamic model forces\n",
    "#plt.plot(flight_dyn.t, pitch, 'k')\n",
    "#plt.plot(flight_dyn.t, D/10, 'y')\n",
    "#plt.plot(flight_dyn.t, L/10, 'y')\n",
    "\n",
    "#Dynamic model pitch, depth, alpha, ...\n",
    "#plt.plot(flight_dyn.t, np.interp(flight_dyn.t, flight_dyn.time, flight_dyn.pitch), 'g')\n",
    "#plt.plot(flight_dyn.t, np.interp(flight_dyn.t, flight_dyn.time, flight_dyn.pitch), 'g')\n",
    "#plt.plot(flight_dyn.t, np.interp(flight_dyn.t, flight_dyn.time, flight_dyn.depth), 'k')\n",
    "#plt.plot(flight_dyn.t, np.arctan2(flight_dyn.w,flight_dyn.u)-np.interp(flight_dyn.t, flight_dyn.time, flight_dyn.pitch), 'y')\n",
    "\n",
    "#Steady state speed\n",
    "#plt.plot(flight_dyn.t, np.interp(flight_dyn.t, DM.date2float(data.data.Timestamp), data.data.speed_horz),'--m',label=\"u stat [m/s]\")\n",
    "#plt.plot(flight_dyn.t, np.interp(flight_dyn.t, DM.date2float(data.data.Timestamp), data.data.speed_vert),'--c',label=\"w stat [m/s]\")\n",
    "plt.plot(flight_dyn.t, np.interp(flight_dyn.t, DM.date2float(data.data.Timestamp), data.data.speed), '--y',label=\"U stat [m/s]\")\n",
    "\n",
    "#ADCP speed\n",
    "#plt.plot(time, smooth(ADCP_xz_spd,smooth_coeff), '--r',label=\"U ADCP [m/s]\") #ADCP speed interpolated \n",
    "plt.scatter(ADCP.time.values.astype('float')/(10**9),smooth(spd_xyz,5), 1,'b', alpha=1, label='ADCP speed') #ADCP speed not interpolated \n",
    "\n",
    "\n",
    "\n",
    "plt.xlabel(\"t [s]\")\n",
    "plt.ylabel(\"v [m/s]\")\n",
    "plt.title(\"Speed comparison\")\n",
    "plt.legend()\n",
    "ax.set_ylim([-0.5,1.1])\n",
    "ax.set_xlim([flight_dyn.t[0],flight_dyn.t[4000]])\n",
    "plt.show()\n"
   ]
  },
  {
   "cell_type": "markdown",
   "id": "38a5ba9a",
   "metadata": {},
   "source": [
    "#### Comparison of speed error (relative to ADCP) between dynamic and static"
   ]
  },
  {
   "cell_type": "code",
   "execution_count": 18,
   "id": "d2e7b509",
   "metadata": {},
   "outputs": [
    {
     "data": {
      "application/vnd.jupyter.widget-view+json": {
       "model_id": "9594051cf5324562a6ffcd56b375475a",
       "version_major": 2,
       "version_minor": 0
      },
      "text/plain": [
       "Canvas(toolbar=Toolbar(toolitems=[('Home', 'Reset original view', 'home', 'home'), ('Back', 'Back to previous …"
      ]
     },
     "metadata": {},
     "output_type": "display_data"
    }
   ],
   "source": [
    "Dyn_Speed=np.interp(time, flight_dyn.t, np.sqrt(flight_dyn.w**2+flight_dyn.u**2))\n",
    "\n",
    "# Definition of error function\n",
    "Dyn_spd_err=smooth(ADCP_speed,smooth_coeff)-Dyn_Speed\n",
    "\n",
    "#Figure plotting -----------------------------------------------------------------------------------\n",
    "%matplotlib widget\n",
    "plt.close('all')\n",
    "fig = plt.figure()\n",
    "ax = fig.add_subplot(1, 1, 1)\n",
    "plt.scatter(time, Dyn_spd_err, 1, 'r', alpha=1, label ='Dynamic speed error')\n",
    "plt.scatter(time, spd_err, 1, 'b', alpha=1, label ='Static speed error')\n",
    "plt.grid()\n",
    "plt.legend()\n",
    "plt.title(\"speed error\")\n",
    "plt.xlabel(\"t [s]\")\n",
    "plt.ylabel(\"speed error [m/s]\")\n",
    "\n",
    "t = np.nanpercentile(time,[0,100])\n",
    "def update(x=0):\n",
    "    ax.set_xlim([t[0] + x*step , t[0] + x*step + step])\n",
    "    fig.canvas.draw_idle()\n",
    "ax.set_ylim([-0.3,0.7])\n",
    "step = np.diff(t)/100\n",
    "update(30)\n",
    "\n",
    "plt.show()"
   ]
  },
  {
   "cell_type": "markdown",
   "id": "2d15deb6",
   "metadata": {},
   "source": [
    "#### Comparison of  HORIZONTAL SPEED (Dyanmic VS Static VS ADCP)"
   ]
  },
  {
   "cell_type": "code",
   "execution_count": 105,
   "id": "0f5ac3c6",
   "metadata": {},
   "outputs": [
    {
     "data": {
      "application/vnd.jupyter.widget-view+json": {
       "model_id": "f9fc63e51bc546e29d5ecda5477ae639",
       "version_major": 2,
       "version_minor": 0
      },
      "text/plain": [
       "Canvas(toolbar=Toolbar(toolitems=[('Home', 'Reset original view', 'home', 'home'), ('Back', 'Back to previous …"
      ]
     },
     "metadata": {},
     "output_type": "display_data"
    }
   ],
   "source": [
    "#Figure plotting -----------------------------------------------------------------------------------\n",
    "%matplotlib widget\n",
    "plt.close('all')\n",
    "fig = plt.figure()\n",
    "ax = fig.add_subplot(1, 1, 1)\n",
    "plt.plot(time,horizontal_speed,'--y', alpha=0.6, label='Steady state Horizontal speed')\n",
    "plt.plot(flight_dyn.t, flight_dyn.u, 'r',alpha=0.6, label=\"Dynamic Horizontal speed\")\n",
    "plt.scatter(time,smooth(-ADCP_hrz_spd,smooth_coeff), 1,'b', alpha=1, label='ADCP Horizontal speed') #Because : Vadcp = - Vdrone\n",
    "plt.grid()\n",
    "plt.legend()\n",
    "plt.title(\"Horizontal speed\")\n",
    "plt.xlabel(\"t [s]\")\n",
    "plt.ylabel(\"speed error [m/s]\")\n",
    "\n",
    "t = np.nanpercentile(time,[0,100])\n",
    "def update(x=0):\n",
    "    ax.set_xlim([t[0] + x*step , t[0] + x*step + step])\n",
    "    fig.canvas.draw_idle()\n",
    "ax.set_ylim([-0.1,0.7])\n",
    "step = np.diff(t)/100\n",
    "update(30)\n",
    "\n",
    "plt.show()"
   ]
  },
  {
   "cell_type": "code",
   "execution_count": null,
   "id": "b24dcb73",
   "metadata": {},
   "outputs": [],
   "source": []
  }
 ],
 "metadata": {
  "kernelspec": {
   "display_name": "Python 3",
   "language": "python",
   "name": "python3"
  },
  "language_info": {
   "codemirror_mode": {
    "name": "ipython",
    "version": 3
   },
   "file_extension": ".py",
   "mimetype": "text/x-python",
   "name": "python",
   "nbconvert_exporter": "python",
   "pygments_lexer": "ipython3",
   "version": "3.8.8"
  }
 },
 "nbformat": 4,
 "nbformat_minor": 5
}
